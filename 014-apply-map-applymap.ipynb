{
 "cells": [
  {
   "cell_type": "code",
   "id": "initial_id",
   "metadata": {
    "collapsed": true,
    "ExecuteTime": {
     "end_time": "2025-02-12T13:13:10.030235Z",
     "start_time": "2025-02-12T13:13:06.220678Z"
    }
   },
   "source": [
    "import pandas as pd\n",
    "import matplotlib.pyplot as plt\n",
    "import seaborn as sns"
   ],
   "outputs": [],
   "execution_count": 17
  },
  {
   "metadata": {
    "ExecuteTime": {
     "end_time": "2025-02-12T13:05:35.591673Z",
     "start_time": "2025-02-12T13:05:35.574277Z"
    }
   },
   "cell_type": "code",
   "source": [
    "titanic = pd.read_csv('./data/titanic.csv')\n",
    "titanic['age'] = titanic['age'].replace(['?'], [None]).astype(float)\n",
    "titanic['fare'] = titanic['fare'].replace(['?'], [None]).astype(float)"
   ],
   "id": "e71d4843ee523351",
   "outputs": [],
   "execution_count": 2
  },
  {
   "metadata": {
    "ExecuteTime": {
     "end_time": "2025-02-12T13:05:38.509542Z",
     "start_time": "2025-02-12T13:05:38.497742Z"
    }
   },
   "cell_type": "code",
   "source": "titanic",
   "id": "af14db9a4b417d2d",
   "outputs": [
    {
     "data": {
      "text/plain": [
       "      pclass  survived                                             name  \\\n",
       "0          1         1                    Allen, Miss. Elisabeth Walton   \n",
       "1          1         1                   Allison, Master. Hudson Trevor   \n",
       "2          1         0                     Allison, Miss. Helen Loraine   \n",
       "3          1         0             Allison, Mr. Hudson Joshua Creighton   \n",
       "4          1         0  Allison, Mrs. Hudson J C (Bessie Waldo Daniels)   \n",
       "...      ...       ...                                              ...   \n",
       "1304       3         0                             Zabour, Miss. Hileni   \n",
       "1305       3         0                            Zabour, Miss. Thamine   \n",
       "1306       3         0                        Zakarian, Mr. Mapriededer   \n",
       "1307       3         0                              Zakarian, Mr. Ortin   \n",
       "1308       3         0                               Zimmerman, Mr. Leo   \n",
       "\n",
       "         sex      age  sibsp  parch  ticket      fare    cabin embarked boat  \\\n",
       "0     female  29.0000      0      0   24160  211.3375       B5        S    2   \n",
       "1       male   0.9167      1      2  113781  151.5500  C22 C26        S   11   \n",
       "2     female   2.0000      1      2  113781  151.5500  C22 C26        S    ?   \n",
       "3       male  30.0000      1      2  113781  151.5500  C22 C26        S    ?   \n",
       "4     female  25.0000      1      2  113781  151.5500  C22 C26        S    ?   \n",
       "...      ...      ...    ...    ...     ...       ...      ...      ...  ...   \n",
       "1304  female  14.5000      1      0    2665   14.4542        ?        C    ?   \n",
       "1305  female      NaN      1      0    2665   14.4542        ?        C    ?   \n",
       "1306    male  26.5000      0      0    2656    7.2250        ?        C    ?   \n",
       "1307    male  27.0000      0      0    2670    7.2250        ?        C    ?   \n",
       "1308    male  29.0000      0      0  315082    7.8750        ?        S    ?   \n",
       "\n",
       "     body                        home.dest  \n",
       "0       ?                     St Louis, MO  \n",
       "1       ?  Montreal, PQ / Chesterville, ON  \n",
       "2       ?  Montreal, PQ / Chesterville, ON  \n",
       "3     135  Montreal, PQ / Chesterville, ON  \n",
       "4       ?  Montreal, PQ / Chesterville, ON  \n",
       "...   ...                              ...  \n",
       "1304  328                                ?  \n",
       "1305    ?                                ?  \n",
       "1306  304                                ?  \n",
       "1307    ?                                ?  \n",
       "1308    ?                                ?  \n",
       "\n",
       "[1309 rows x 14 columns]"
      ],
      "text/html": [
       "<div>\n",
       "<style scoped>\n",
       "    .dataframe tbody tr th:only-of-type {\n",
       "        vertical-align: middle;\n",
       "    }\n",
       "\n",
       "    .dataframe tbody tr th {\n",
       "        vertical-align: top;\n",
       "    }\n",
       "\n",
       "    .dataframe thead th {\n",
       "        text-align: right;\n",
       "    }\n",
       "</style>\n",
       "<table border=\"1\" class=\"dataframe\">\n",
       "  <thead>\n",
       "    <tr style=\"text-align: right;\">\n",
       "      <th></th>\n",
       "      <th>pclass</th>\n",
       "      <th>survived</th>\n",
       "      <th>name</th>\n",
       "      <th>sex</th>\n",
       "      <th>age</th>\n",
       "      <th>sibsp</th>\n",
       "      <th>parch</th>\n",
       "      <th>ticket</th>\n",
       "      <th>fare</th>\n",
       "      <th>cabin</th>\n",
       "      <th>embarked</th>\n",
       "      <th>boat</th>\n",
       "      <th>body</th>\n",
       "      <th>home.dest</th>\n",
       "    </tr>\n",
       "  </thead>\n",
       "  <tbody>\n",
       "    <tr>\n",
       "      <th>0</th>\n",
       "      <td>1</td>\n",
       "      <td>1</td>\n",
       "      <td>Allen, Miss. Elisabeth Walton</td>\n",
       "      <td>female</td>\n",
       "      <td>29.0000</td>\n",
       "      <td>0</td>\n",
       "      <td>0</td>\n",
       "      <td>24160</td>\n",
       "      <td>211.3375</td>\n",
       "      <td>B5</td>\n",
       "      <td>S</td>\n",
       "      <td>2</td>\n",
       "      <td>?</td>\n",
       "      <td>St Louis, MO</td>\n",
       "    </tr>\n",
       "    <tr>\n",
       "      <th>1</th>\n",
       "      <td>1</td>\n",
       "      <td>1</td>\n",
       "      <td>Allison, Master. Hudson Trevor</td>\n",
       "      <td>male</td>\n",
       "      <td>0.9167</td>\n",
       "      <td>1</td>\n",
       "      <td>2</td>\n",
       "      <td>113781</td>\n",
       "      <td>151.5500</td>\n",
       "      <td>C22 C26</td>\n",
       "      <td>S</td>\n",
       "      <td>11</td>\n",
       "      <td>?</td>\n",
       "      <td>Montreal, PQ / Chesterville, ON</td>\n",
       "    </tr>\n",
       "    <tr>\n",
       "      <th>2</th>\n",
       "      <td>1</td>\n",
       "      <td>0</td>\n",
       "      <td>Allison, Miss. Helen Loraine</td>\n",
       "      <td>female</td>\n",
       "      <td>2.0000</td>\n",
       "      <td>1</td>\n",
       "      <td>2</td>\n",
       "      <td>113781</td>\n",
       "      <td>151.5500</td>\n",
       "      <td>C22 C26</td>\n",
       "      <td>S</td>\n",
       "      <td>?</td>\n",
       "      <td>?</td>\n",
       "      <td>Montreal, PQ / Chesterville, ON</td>\n",
       "    </tr>\n",
       "    <tr>\n",
       "      <th>3</th>\n",
       "      <td>1</td>\n",
       "      <td>0</td>\n",
       "      <td>Allison, Mr. Hudson Joshua Creighton</td>\n",
       "      <td>male</td>\n",
       "      <td>30.0000</td>\n",
       "      <td>1</td>\n",
       "      <td>2</td>\n",
       "      <td>113781</td>\n",
       "      <td>151.5500</td>\n",
       "      <td>C22 C26</td>\n",
       "      <td>S</td>\n",
       "      <td>?</td>\n",
       "      <td>135</td>\n",
       "      <td>Montreal, PQ / Chesterville, ON</td>\n",
       "    </tr>\n",
       "    <tr>\n",
       "      <th>4</th>\n",
       "      <td>1</td>\n",
       "      <td>0</td>\n",
       "      <td>Allison, Mrs. Hudson J C (Bessie Waldo Daniels)</td>\n",
       "      <td>female</td>\n",
       "      <td>25.0000</td>\n",
       "      <td>1</td>\n",
       "      <td>2</td>\n",
       "      <td>113781</td>\n",
       "      <td>151.5500</td>\n",
       "      <td>C22 C26</td>\n",
       "      <td>S</td>\n",
       "      <td>?</td>\n",
       "      <td>?</td>\n",
       "      <td>Montreal, PQ / Chesterville, ON</td>\n",
       "    </tr>\n",
       "    <tr>\n",
       "      <th>...</th>\n",
       "      <td>...</td>\n",
       "      <td>...</td>\n",
       "      <td>...</td>\n",
       "      <td>...</td>\n",
       "      <td>...</td>\n",
       "      <td>...</td>\n",
       "      <td>...</td>\n",
       "      <td>...</td>\n",
       "      <td>...</td>\n",
       "      <td>...</td>\n",
       "      <td>...</td>\n",
       "      <td>...</td>\n",
       "      <td>...</td>\n",
       "      <td>...</td>\n",
       "    </tr>\n",
       "    <tr>\n",
       "      <th>1304</th>\n",
       "      <td>3</td>\n",
       "      <td>0</td>\n",
       "      <td>Zabour, Miss. Hileni</td>\n",
       "      <td>female</td>\n",
       "      <td>14.5000</td>\n",
       "      <td>1</td>\n",
       "      <td>0</td>\n",
       "      <td>2665</td>\n",
       "      <td>14.4542</td>\n",
       "      <td>?</td>\n",
       "      <td>C</td>\n",
       "      <td>?</td>\n",
       "      <td>328</td>\n",
       "      <td>?</td>\n",
       "    </tr>\n",
       "    <tr>\n",
       "      <th>1305</th>\n",
       "      <td>3</td>\n",
       "      <td>0</td>\n",
       "      <td>Zabour, Miss. Thamine</td>\n",
       "      <td>female</td>\n",
       "      <td>NaN</td>\n",
       "      <td>1</td>\n",
       "      <td>0</td>\n",
       "      <td>2665</td>\n",
       "      <td>14.4542</td>\n",
       "      <td>?</td>\n",
       "      <td>C</td>\n",
       "      <td>?</td>\n",
       "      <td>?</td>\n",
       "      <td>?</td>\n",
       "    </tr>\n",
       "    <tr>\n",
       "      <th>1306</th>\n",
       "      <td>3</td>\n",
       "      <td>0</td>\n",
       "      <td>Zakarian, Mr. Mapriededer</td>\n",
       "      <td>male</td>\n",
       "      <td>26.5000</td>\n",
       "      <td>0</td>\n",
       "      <td>0</td>\n",
       "      <td>2656</td>\n",
       "      <td>7.2250</td>\n",
       "      <td>?</td>\n",
       "      <td>C</td>\n",
       "      <td>?</td>\n",
       "      <td>304</td>\n",
       "      <td>?</td>\n",
       "    </tr>\n",
       "    <tr>\n",
       "      <th>1307</th>\n",
       "      <td>3</td>\n",
       "      <td>0</td>\n",
       "      <td>Zakarian, Mr. Ortin</td>\n",
       "      <td>male</td>\n",
       "      <td>27.0000</td>\n",
       "      <td>0</td>\n",
       "      <td>0</td>\n",
       "      <td>2670</td>\n",
       "      <td>7.2250</td>\n",
       "      <td>?</td>\n",
       "      <td>C</td>\n",
       "      <td>?</td>\n",
       "      <td>?</td>\n",
       "      <td>?</td>\n",
       "    </tr>\n",
       "    <tr>\n",
       "      <th>1308</th>\n",
       "      <td>3</td>\n",
       "      <td>0</td>\n",
       "      <td>Zimmerman, Mr. Leo</td>\n",
       "      <td>male</td>\n",
       "      <td>29.0000</td>\n",
       "      <td>0</td>\n",
       "      <td>0</td>\n",
       "      <td>315082</td>\n",
       "      <td>7.8750</td>\n",
       "      <td>?</td>\n",
       "      <td>S</td>\n",
       "      <td>?</td>\n",
       "      <td>?</td>\n",
       "      <td>?</td>\n",
       "    </tr>\n",
       "  </tbody>\n",
       "</table>\n",
       "<p>1309 rows × 14 columns</p>\n",
       "</div>"
      ]
     },
     "execution_count": 3,
     "metadata": {},
     "output_type": "execute_result"
    }
   ],
   "execution_count": 3
  },
  {
   "metadata": {
    "ExecuteTime": {
     "end_time": "2025-02-12T13:07:15.620194Z",
     "start_time": "2025-02-12T13:07:15.613724Z"
    }
   },
   "cell_type": "code",
   "source": [
    "def years_to_days(yrs):\n",
    "    return yrs * 365\n",
    "\n",
    "titanic[\"age\"].apply(years_to_days)"
   ],
   "id": "8148c5eb2c2f5d82",
   "outputs": [
    {
     "data": {
      "text/plain": [
       "0       10585.0000\n",
       "1         334.5955\n",
       "2         730.0000\n",
       "3       10950.0000\n",
       "4        9125.0000\n",
       "           ...    \n",
       "1304     5292.5000\n",
       "1305           NaN\n",
       "1306     9672.5000\n",
       "1307     9855.0000\n",
       "1308    10585.0000\n",
       "Name: age, Length: 1309, dtype: float64"
      ]
     },
     "execution_count": 4,
     "metadata": {},
     "output_type": "execute_result"
    }
   ],
   "execution_count": 4
  },
  {
   "metadata": {
    "ExecuteTime": {
     "end_time": "2025-02-12T13:10:05.941155Z",
     "start_time": "2025-02-12T13:10:05.937735Z"
    }
   },
   "cell_type": "code",
   "source": [
    "def age_group(age):\n",
    "    if age < 2:\n",
    "        return \"infant\"\n",
    "    elif age < 12:\n",
    "        return \"child\"\n",
    "    elif age < 20:\n",
    "        return \"teen\"\n",
    "    elif age < 40:\n",
    "        return \"adult\"\n",
    "    elif age < 60:\n",
    "        return \"middle-aged\"\n",
    "    else:\n",
    "        return \"senior\""
   ],
   "id": "e999c9a97352cf12",
   "outputs": [],
   "execution_count": 7
  },
  {
   "metadata": {
    "ExecuteTime": {
     "end_time": "2025-02-12T13:10:11.990965Z",
     "start_time": "2025-02-12T13:10:11.985576Z"
    }
   },
   "cell_type": "code",
   "source": "titanic[\"age\"].apply(age_group)",
   "id": "5feb5ad348372603",
   "outputs": [
    {
     "data": {
      "text/plain": [
       "0        adult\n",
       "1       infant\n",
       "2        child\n",
       "3        adult\n",
       "4        adult\n",
       "         ...  \n",
       "1304      teen\n",
       "1305    senior\n",
       "1306     adult\n",
       "1307     adult\n",
       "1308     adult\n",
       "Name: age, Length: 1309, dtype: object"
      ]
     },
     "execution_count": 8,
     "metadata": {},
     "output_type": "execute_result"
    }
   ],
   "execution_count": 8
  },
  {
   "metadata": {
    "ExecuteTime": {
     "end_time": "2025-02-12T13:10:39.945432Z",
     "start_time": "2025-02-12T13:10:39.941243Z"
    }
   },
   "cell_type": "code",
   "source": "titanic[\"age_group\"] = titanic[\"age\"].apply(age_group)",
   "id": "654f18d454bde463",
   "outputs": [],
   "execution_count": 9
  },
  {
   "metadata": {
    "ExecuteTime": {
     "end_time": "2025-02-12T13:10:47.486420Z",
     "start_time": "2025-02-12T13:10:47.481571Z"
    }
   },
   "cell_type": "code",
   "source": "titanic.age_group.value_counts()",
   "id": "fb99c503cdb58e63",
   "outputs": [
    {
     "data": {
      "text/plain": [
       "age_group\n",
       "adult          576\n",
       "senior         303\n",
       "middle-aged    205\n",
       "teen           134\n",
       "child           69\n",
       "infant          22\n",
       "Name: count, dtype: int64"
      ]
     },
     "execution_count": 10,
     "metadata": {},
     "output_type": "execute_result"
    }
   ],
   "execution_count": 10
  },
  {
   "metadata": {
    "ExecuteTime": {
     "end_time": "2025-02-12T13:15:39.790206Z",
     "start_time": "2025-02-12T13:15:39.784342Z"
    }
   },
   "cell_type": "code",
   "source": "titanic.groupby(\"age_group\")[\"survived\"].mean().sort_values()",
   "id": "de4e43782ea0da19",
   "outputs": [
    {
     "data": {
      "text/plain": [
       "age_group\n",
       "senior         0.280528\n",
       "adult          0.390625\n",
       "middle-aged    0.409756\n",
       "teen           0.410448\n",
       "child          0.492754\n",
       "infant         0.772727\n",
       "Name: survived, dtype: float64"
      ]
     },
     "execution_count": 28,
     "metadata": {},
     "output_type": "execute_result"
    }
   ],
   "execution_count": 28
  },
  {
   "metadata": {
    "ExecuteTime": {
     "end_time": "2025-02-12T13:48:04.196992Z",
     "start_time": "2025-02-12T13:48:04.191322Z"
    }
   },
   "cell_type": "code",
   "source": "titanic.groupby([\"age_group\", \"sex\"])[\"survived\"].mean().sort_values()",
   "id": "e1e10019051bdce4",
   "outputs": [
    {
     "data": {
      "text/plain": [
       "age_group    sex   \n",
       "teen         male      0.109589\n",
       "senior       male      0.135514\n",
       "middle-aged  male      0.174242\n",
       "adult        male      0.200000\n",
       "child        male      0.472222\n",
       "             female    0.515152\n",
       "senior       female    0.629213\n",
       "infant       male      0.692308\n",
       "adult        female    0.746269\n",
       "teen         female    0.770492\n",
       "middle-aged  female    0.835616\n",
       "infant       female    0.888889\n",
       "Name: survived, dtype: float64"
      ]
     },
     "execution_count": 37,
     "metadata": {},
     "output_type": "execute_result"
    }
   ],
   "execution_count": 37
  },
  {
   "metadata": {
    "ExecuteTime": {
     "end_time": "2025-02-12T13:49:58.235995Z",
     "start_time": "2025-02-12T13:49:58.230875Z"
    }
   },
   "cell_type": "code",
   "source": "titanic[\"fare\"]",
   "id": "9232602521f887d6",
   "outputs": [
    {
     "data": {
      "text/plain": [
       "0       211.3375\n",
       "1       151.5500\n",
       "2       151.5500\n",
       "3       151.5500\n",
       "4       151.5500\n",
       "          ...   \n",
       "1304     14.4542\n",
       "1305     14.4542\n",
       "1306      7.2250\n",
       "1307      7.2250\n",
       "1308      7.8750\n",
       "Name: fare, Length: 1309, dtype: float64"
      ]
     },
     "execution_count": 40,
     "metadata": {},
     "output_type": "execute_result"
    }
   ],
   "execution_count": 40
  },
  {
   "metadata": {
    "ExecuteTime": {
     "end_time": "2025-02-12T13:49:58.764938Z",
     "start_time": "2025-02-12T13:49:58.759682Z"
    }
   },
   "cell_type": "code",
   "source": "titanic[\"fare\"].apply(lambda x: f\"${x*24}\")",
   "id": "110500e5079d8872",
   "outputs": [
    {
     "data": {
      "text/plain": [
       "0                   $5072.1\n",
       "1       $3637.2000000000003\n",
       "2       $3637.2000000000003\n",
       "3       $3637.2000000000003\n",
       "4       $3637.2000000000003\n",
       "               ...         \n",
       "1304              $346.9008\n",
       "1305              $346.9008\n",
       "1306    $173.39999999999998\n",
       "1307    $173.39999999999998\n",
       "1308                 $189.0\n",
       "Name: fare, Length: 1309, dtype: object"
      ]
     },
     "execution_count": 41,
     "metadata": {},
     "output_type": "execute_result"
    }
   ],
   "execution_count": 41
  },
  {
   "metadata": {
    "ExecuteTime": {
     "end_time": "2025-02-12T13:50:39.489957Z",
     "start_time": "2025-02-12T13:50:39.487181Z"
    }
   },
   "cell_type": "code",
   "source": [
    "def convert_currency(num, multiplier):\n",
    "    return f\"${num * multiplier}\""
   ],
   "id": "1ced365175f79499",
   "outputs": [],
   "execution_count": 42
  },
  {
   "metadata": {
    "ExecuteTime": {
     "end_time": "2025-02-12T13:57:17.769817Z",
     "start_time": "2025-02-12T13:57:17.763945Z"
    }
   },
   "cell_type": "code",
   "source": "titanic[\"fare\"].apply(convert_currency, args=(24,))",
   "id": "8fe54de54dbbb40d",
   "outputs": [
    {
     "data": {
      "text/plain": [
       "0                   $5072.1\n",
       "1       $3637.2000000000003\n",
       "2       $3637.2000000000003\n",
       "3       $3637.2000000000003\n",
       "4       $3637.2000000000003\n",
       "               ...         \n",
       "1304              $346.9008\n",
       "1305              $346.9008\n",
       "1306    $173.39999999999998\n",
       "1307    $173.39999999999998\n",
       "1308                 $189.0\n",
       "Name: fare, Length: 1309, dtype: object"
      ]
     },
     "execution_count": 43,
     "metadata": {},
     "output_type": "execute_result"
    }
   ],
   "execution_count": 43
  },
  {
   "metadata": {
    "ExecuteTime": {
     "end_time": "2025-02-12T14:05:00.314978Z",
     "start_time": "2025-02-12T14:05:00.310860Z"
    }
   },
   "cell_type": "code",
   "source": "df = titanic[[\"pclass\", \"survived\", \"age\"]]",
   "id": "97fc3728f09ba6dc",
   "outputs": [],
   "execution_count": 44
  },
  {
   "metadata": {
    "ExecuteTime": {
     "end_time": "2025-02-12T14:05:02.408091Z",
     "start_time": "2025-02-12T14:05:02.401912Z"
    }
   },
   "cell_type": "code",
   "source": "df",
   "id": "813d773615bfe9a1",
   "outputs": [
    {
     "data": {
      "text/plain": [
       "      pclass  survived      age\n",
       "0          1         1  29.0000\n",
       "1          1         1   0.9167\n",
       "2          1         0   2.0000\n",
       "3          1         0  30.0000\n",
       "4          1         0  25.0000\n",
       "...      ...       ...      ...\n",
       "1304       3         0  14.5000\n",
       "1305       3         0      NaN\n",
       "1306       3         0  26.5000\n",
       "1307       3         0  27.0000\n",
       "1308       3         0  29.0000\n",
       "\n",
       "[1309 rows x 3 columns]"
      ],
      "text/html": [
       "<div>\n",
       "<style scoped>\n",
       "    .dataframe tbody tr th:only-of-type {\n",
       "        vertical-align: middle;\n",
       "    }\n",
       "\n",
       "    .dataframe tbody tr th {\n",
       "        vertical-align: top;\n",
       "    }\n",
       "\n",
       "    .dataframe thead th {\n",
       "        text-align: right;\n",
       "    }\n",
       "</style>\n",
       "<table border=\"1\" class=\"dataframe\">\n",
       "  <thead>\n",
       "    <tr style=\"text-align: right;\">\n",
       "      <th></th>\n",
       "      <th>pclass</th>\n",
       "      <th>survived</th>\n",
       "      <th>age</th>\n",
       "    </tr>\n",
       "  </thead>\n",
       "  <tbody>\n",
       "    <tr>\n",
       "      <th>0</th>\n",
       "      <td>1</td>\n",
       "      <td>1</td>\n",
       "      <td>29.0000</td>\n",
       "    </tr>\n",
       "    <tr>\n",
       "      <th>1</th>\n",
       "      <td>1</td>\n",
       "      <td>1</td>\n",
       "      <td>0.9167</td>\n",
       "    </tr>\n",
       "    <tr>\n",
       "      <th>2</th>\n",
       "      <td>1</td>\n",
       "      <td>0</td>\n",
       "      <td>2.0000</td>\n",
       "    </tr>\n",
       "    <tr>\n",
       "      <th>3</th>\n",
       "      <td>1</td>\n",
       "      <td>0</td>\n",
       "      <td>30.0000</td>\n",
       "    </tr>\n",
       "    <tr>\n",
       "      <th>4</th>\n",
       "      <td>1</td>\n",
       "      <td>0</td>\n",
       "      <td>25.0000</td>\n",
       "    </tr>\n",
       "    <tr>\n",
       "      <th>...</th>\n",
       "      <td>...</td>\n",
       "      <td>...</td>\n",
       "      <td>...</td>\n",
       "    </tr>\n",
       "    <tr>\n",
       "      <th>1304</th>\n",
       "      <td>3</td>\n",
       "      <td>0</td>\n",
       "      <td>14.5000</td>\n",
       "    </tr>\n",
       "    <tr>\n",
       "      <th>1305</th>\n",
       "      <td>3</td>\n",
       "      <td>0</td>\n",
       "      <td>NaN</td>\n",
       "    </tr>\n",
       "    <tr>\n",
       "      <th>1306</th>\n",
       "      <td>3</td>\n",
       "      <td>0</td>\n",
       "      <td>26.5000</td>\n",
       "    </tr>\n",
       "    <tr>\n",
       "      <th>1307</th>\n",
       "      <td>3</td>\n",
       "      <td>0</td>\n",
       "      <td>27.0000</td>\n",
       "    </tr>\n",
       "    <tr>\n",
       "      <th>1308</th>\n",
       "      <td>3</td>\n",
       "      <td>0</td>\n",
       "      <td>29.0000</td>\n",
       "    </tr>\n",
       "  </tbody>\n",
       "</table>\n",
       "<p>1309 rows × 3 columns</p>\n",
       "</div>"
      ]
     },
     "execution_count": 45,
     "metadata": {},
     "output_type": "execute_result"
    }
   ],
   "execution_count": 45
  },
  {
   "metadata": {
    "ExecuteTime": {
     "end_time": "2025-02-12T14:06:40.412584Z",
     "start_time": "2025-02-12T14:06:40.409342Z"
    }
   },
   "cell_type": "code",
   "source": [
    "def get_range(s):\n",
    "    return s.max() - s.min()"
   ],
   "id": "7ef7b68a414bfe37",
   "outputs": [],
   "execution_count": 46
  },
  {
   "metadata": {
    "ExecuteTime": {
     "end_time": "2025-02-12T14:06:43.526743Z",
     "start_time": "2025-02-12T14:06:43.521953Z"
    }
   },
   "cell_type": "code",
   "source": "df.apply(get_range)",
   "id": "b6053cb07a23f434",
   "outputs": [
    {
     "data": {
      "text/plain": [
       "pclass       2.0000\n",
       "survived     1.0000\n",
       "age         79.8333\n",
       "dtype: float64"
      ]
     },
     "execution_count": 47,
     "metadata": {},
     "output_type": "execute_result"
    }
   ],
   "execution_count": 47
  },
  {
   "metadata": {
    "ExecuteTime": {
     "end_time": "2025-02-12T14:07:49.218020Z",
     "start_time": "2025-02-12T14:07:49.212430Z"
    }
   },
   "cell_type": "code",
   "source": [
    "df = titanic[[\"pclass\", \"survived\", \"age\", \"fare\"]]\n",
    "df.apply(get_range)"
   ],
   "id": "89c4874f31500b5f",
   "outputs": [
    {
     "data": {
      "text/plain": [
       "pclass        2.0000\n",
       "survived      1.0000\n",
       "age          79.8333\n",
       "fare        512.3292\n",
       "dtype: float64"
      ]
     },
     "execution_count": 48,
     "metadata": {},
     "output_type": "execute_result"
    }
   ],
   "execution_count": 48
  },
  {
   "metadata": {
    "ExecuteTime": {
     "end_time": "2025-02-12T14:07:59.639932Z",
     "start_time": "2025-02-12T14:07:59.602490Z"
    }
   },
   "cell_type": "code",
   "source": "df.apply(get_range, axis=1)",
   "id": "5cd0c7593a82dbe3",
   "outputs": [
    {
     "data": {
      "text/plain": [
       "0       210.3375\n",
       "1       150.6333\n",
       "2       151.5500\n",
       "3       151.5500\n",
       "4       151.5500\n",
       "          ...   \n",
       "1304     14.5000\n",
       "1305     14.4542\n",
       "1306     26.5000\n",
       "1307     27.0000\n",
       "1308     29.0000\n",
       "Length: 1309, dtype: float64"
      ]
     },
     "execution_count": 49,
     "metadata": {},
     "output_type": "execute_result"
    }
   ],
   "execution_count": 49
  },
  {
   "metadata": {
    "ExecuteTime": {
     "end_time": "2025-02-12T14:12:12.953444Z",
     "start_time": "2025-02-12T14:12:12.950250Z"
    }
   },
   "cell_type": "code",
   "source": [
    "def get_fam_size(s):\n",
    "    fam_size = s.sibsp + s.parch\n",
    "    if(fam_size == 0):\n",
    "        return \"solo\"\n",
    "    elif fam_size < 5:\n",
    "        return \"average\"\n",
    "    else:\n",
    "        return \"large\""
   ],
   "id": "cf5ae1a34d2bf386",
   "outputs": [],
   "execution_count": 50
  },
  {
   "metadata": {
    "ExecuteTime": {
     "end_time": "2025-02-12T14:12:27.833224Z",
     "start_time": "2025-02-12T14:12:27.819895Z"
    }
   },
   "cell_type": "code",
   "source": "titanic.apply(get_fam_size, axis=1)",
   "id": "9c8ee2afb88f96c1",
   "outputs": [
    {
     "data": {
      "text/plain": [
       "0          solo\n",
       "1       average\n",
       "2       average\n",
       "3       average\n",
       "4       average\n",
       "         ...   \n",
       "1304    average\n",
       "1305    average\n",
       "1306       solo\n",
       "1307       solo\n",
       "1308       solo\n",
       "Length: 1309, dtype: object"
      ]
     },
     "execution_count": 51,
     "metadata": {},
     "output_type": "execute_result"
    }
   ],
   "execution_count": 51
  },
  {
   "metadata": {
    "ExecuteTime": {
     "end_time": "2025-02-12T14:12:59.353579Z",
     "start_time": "2025-02-12T14:12:59.340522Z"
    }
   },
   "cell_type": "code",
   "source": "titanic[\"fam_size\"] = titanic.apply(get_fam_size, axis=1)",
   "id": "59e9d62a25ef72d8",
   "outputs": [],
   "execution_count": 52
  },
  {
   "metadata": {
    "ExecuteTime": {
     "end_time": "2025-02-12T14:13:03.435371Z",
     "start_time": "2025-02-12T14:13:03.430428Z"
    }
   },
   "cell_type": "code",
   "source": "titanic[\"fam_size\"].value_counts()",
   "id": "667b9a4e74a4c86b",
   "outputs": [
    {
     "data": {
      "text/plain": [
       "fam_size\n",
       "solo       790\n",
       "average    459\n",
       "large       60\n",
       "Name: count, dtype: int64"
      ]
     },
     "execution_count": 53,
     "metadata": {},
     "output_type": "execute_result"
    }
   ],
   "execution_count": 53
  },
  {
   "metadata": {
    "ExecuteTime": {
     "end_time": "2025-02-12T14:13:16.096601Z",
     "start_time": "2025-02-12T14:13:16.091739Z"
    }
   },
   "cell_type": "code",
   "source": "titanic.groupby(\"fam_size\")[\"survived\"].mean()",
   "id": "afc5633d77a8312c",
   "outputs": [
    {
     "data": {
      "text/plain": [
       "fam_size\n",
       "average    0.549020\n",
       "large      0.150000\n",
       "solo       0.302532\n",
       "Name: survived, dtype: float64"
      ]
     },
     "execution_count": 54,
     "metadata": {},
     "output_type": "execute_result"
    }
   ],
   "execution_count": 54
  },
  {
   "metadata": {
    "ExecuteTime": {
     "end_time": "2025-02-12T14:15:06.639207Z",
     "start_time": "2025-02-12T14:15:06.633761Z"
    }
   },
   "cell_type": "code",
   "source": "titanic.groupby([\"fam_size\", \"sex\"]).survived.mean()",
   "id": "fa3e78fc1a3664",
   "outputs": [
    {
     "data": {
      "text/plain": [
       "fam_size  sex   \n",
       "average   female    0.771429\n",
       "          male      0.294393\n",
       "large     female    0.296296\n",
       "          male      0.030303\n",
       "solo      female    0.731959\n",
       "          male      0.162752\n",
       "Name: survived, dtype: float64"
      ]
     },
     "execution_count": 58,
     "metadata": {},
     "output_type": "execute_result"
    }
   ],
   "execution_count": 58
  },
  {
   "metadata": {
    "ExecuteTime": {
     "end_time": "2025-02-12T14:15:28.231743Z",
     "start_time": "2025-02-12T14:15:28.225339Z"
    }
   },
   "cell_type": "code",
   "source": "titanic.groupby([\"fam_size\", \"pclass\"]).survived.mean()",
   "id": "39109fd0f3f5bde9",
   "outputs": [
    {
     "data": {
      "text/plain": [
       "fam_size  pclass\n",
       "average   1         0.726115\n",
       "          2         0.593220\n",
       "          3         0.369565\n",
       "large     1         0.666667\n",
       "          2         1.000000\n",
       "          3         0.075472\n",
       "solo      1         0.512500\n",
       "          2         0.303797\n",
       "          3         0.230932\n",
       "Name: survived, dtype: float64"
      ]
     },
     "execution_count": 59,
     "metadata": {},
     "output_type": "execute_result"
    }
   ],
   "execution_count": 59
  },
  {
   "metadata": {
    "ExecuteTime": {
     "end_time": "2025-02-12T14:15:52.112299Z",
     "start_time": "2025-02-12T14:15:52.106591Z"
    }
   },
   "cell_type": "code",
   "source": "titanic.groupby([\"fam_size\", \"sex\", \"pclass\"]).survived.mean()",
   "id": "d94ef315992c7d44",
   "outputs": [
    {
     "data": {
      "text/plain": [
       "fam_size  sex     pclass\n",
       "average   female  1         0.965909\n",
       "                  2         0.904762\n",
       "                  3         0.500000\n",
       "          male    1         0.420290\n",
       "                  2         0.236364\n",
       "                  3         0.233333\n",
       "large     female  1         1.000000\n",
       "                  2         1.000000\n",
       "                  3         0.136364\n",
       "          male    1         0.000000\n",
       "                  3         0.032258\n",
       "solo      female  1         0.961538\n",
       "                  2         0.857143\n",
       "                  3         0.560000\n",
       "          male    1         0.296296\n",
       "                  2         0.103448\n",
       "                  3         0.142473\n",
       "Name: survived, dtype: float64"
      ]
     },
     "execution_count": 60,
     "metadata": {},
     "output_type": "execute_result"
    }
   ],
   "execution_count": 60
  },
  {
   "metadata": {
    "ExecuteTime": {
     "end_time": "2025-02-12T14:17:08.029614Z",
     "start_time": "2025-02-12T14:17:07.904263Z"
    }
   },
   "cell_type": "code",
   "source": "titanic.groupby([\"fam_size\", \"sex\", \"pclass\"]).survived.mean().sort_values().plot(kind=\"bar\")",
   "id": "1783ab80ec9ad5e5",
   "outputs": [
    {
     "data": {
      "text/plain": [
       "<Axes: xlabel='fam_size,sex,pclass'>"
      ]
     },
     "execution_count": 62,
     "metadata": {},
     "output_type": "execute_result"
    },
    {
     "data": {
      "text/plain": [
       "<Figure size 640x480 with 1 Axes>"
      ],
      "image/png": "[encoded data removed]"
     },
     "metadata": {},
     "output_type": "display_data"
    }
   ],
   "execution_count": 62
  },
  {
   "metadata": {
    "ExecuteTime": {
     "end_time": "2025-02-12T14:18:32.630934Z",
     "start_time": "2025-02-12T14:18:32.626261Z"
    }
   },
   "cell_type": "code",
   "source": "titanic[\"pclass\"]",
   "id": "9457259b938e3fb2",
   "outputs": [
    {
     "data": {
      "text/plain": [
       "0       1\n",
       "1       1\n",
       "2       1\n",
       "3       1\n",
       "4       1\n",
       "       ..\n",
       "1304    3\n",
       "1305    3\n",
       "1306    3\n",
       "1307    3\n",
       "1308    3\n",
       "Name: pclass, Length: 1309, dtype: int64"
      ]
     },
     "execution_count": 63,
     "metadata": {},
     "output_type": "execute_result"
    }
   ],
   "execution_count": 63
  },
  {
   "metadata": {
    "ExecuteTime": {
     "end_time": "2025-02-12T14:19:18.550931Z",
     "start_time": "2025-02-12T14:19:18.546056Z"
    }
   },
   "cell_type": "code",
   "source": "titanic[\"pclass\"].map({1: \"1st\", 2: \"2nd\", 3: \"3rd\"})",
   "id": "7f931d2acb698c3b",
   "outputs": [
    {
     "data": {
      "text/plain": [
       "0       1st\n",
       "1       1st\n",
       "2       1st\n",
       "3       1st\n",
       "4       1st\n",
       "       ... \n",
       "1304    3rd\n",
       "1305    3rd\n",
       "1306    3rd\n",
       "1307    3rd\n",
       "1308    3rd\n",
       "Name: pclass, Length: 1309, dtype: object"
      ]
     },
     "execution_count": 64,
     "metadata": {},
     "output_type": "execute_result"
    }
   ],
   "execution_count": 64
  },
  {
   "metadata": {
    "ExecuteTime": {
     "end_time": "2025-02-12T14:20:13.268943Z",
     "start_time": "2025-02-12T14:20:13.264129Z"
    }
   },
   "cell_type": "code",
   "source": "titanic[\"age\"].map(lambda a: a < 18)",
   "id": "72eb29a1e63e870b",
   "outputs": [
    {
     "data": {
      "text/plain": [
       "0       False\n",
       "1        True\n",
       "2        True\n",
       "3       False\n",
       "4       False\n",
       "        ...  \n",
       "1304     True\n",
       "1305    False\n",
       "1306    False\n",
       "1307    False\n",
       "1308    False\n",
       "Name: age, Length: 1309, dtype: bool"
      ]
     },
     "execution_count": 65,
     "metadata": {},
     "output_type": "execute_result"
    }
   ],
   "execution_count": 65
  },
  {
   "metadata": {
    "ExecuteTime": {
     "end_time": "2025-02-12T15:21:20.603966Z",
     "start_time": "2025-02-12T15:21:20.596335Z"
    }
   },
   "cell_type": "code",
   "source": "titanic[[\"name\", \"sex\", \"age_group\"]].map(str.upper)",
   "id": "70a2848e9172958b",
   "outputs": [
    {
     "data": {
      "text/plain": [
       "                                                 name     sex age_group\n",
       "0                       ALLEN, MISS. ELISABETH WALTON  FEMALE     ADULT\n",
       "1                      ALLISON, MASTER. HUDSON TREVOR    MALE    INFANT\n",
       "2                        ALLISON, MISS. HELEN LORAINE  FEMALE     CHILD\n",
       "3                ALLISON, MR. HUDSON JOSHUA CREIGHTON    MALE     ADULT\n",
       "4     ALLISON, MRS. HUDSON J C (BESSIE WALDO DANIELS)  FEMALE     ADULT\n",
       "...                                               ...     ...       ...\n",
       "1304                             ZABOUR, MISS. HILENI  FEMALE      TEEN\n",
       "1305                            ZABOUR, MISS. THAMINE  FEMALE    SENIOR\n",
       "1306                        ZAKARIAN, MR. MAPRIEDEDER    MALE     ADULT\n",
       "1307                              ZAKARIAN, MR. ORTIN    MALE     ADULT\n",
       "1308                               ZIMMERMAN, MR. LEO    MALE     ADULT\n",
       "\n",
       "[1309 rows x 3 columns]"
      ],
      "text/html": [
       "<div>\n",
       "<style scoped>\n",
       "    .dataframe tbody tr th:only-of-type {\n",
       "        vertical-align: middle;\n",
       "    }\n",
       "\n",
       "    .dataframe tbody tr th {\n",
       "        vertical-align: top;\n",
       "    }\n",
       "\n",
       "    .dataframe thead th {\n",
       "        text-align: right;\n",
       "    }\n",
       "</style>\n",
       "<table border=\"1\" class=\"dataframe\">\n",
       "  <thead>\n",
       "    <tr style=\"text-align: right;\">\n",
       "      <th></th>\n",
       "      <th>name</th>\n",
       "      <th>sex</th>\n",
       "      <th>age_group</th>\n",
       "    </tr>\n",
       "  </thead>\n",
       "  <tbody>\n",
       "    <tr>\n",
       "      <th>0</th>\n",
       "      <td>ALLEN, MISS. ELISABETH WALTON</td>\n",
       "      <td>FEMALE</td>\n",
       "      <td>ADULT</td>\n",
       "    </tr>\n",
       "    <tr>\n",
       "      <th>1</th>\n",
       "      <td>ALLISON, MASTER. HUDSON TREVOR</td>\n",
       "      <td>MALE</td>\n",
       "      <td>INFANT</td>\n",
       "    </tr>\n",
       "    <tr>\n",
       "      <th>2</th>\n",
       "      <td>ALLISON, MISS. HELEN LORAINE</td>\n",
       "      <td>FEMALE</td>\n",
       "      <td>CHILD</td>\n",
       "    </tr>\n",
       "    <tr>\n",
       "      <th>3</th>\n",
       "      <td>ALLISON, MR. HUDSON JOSHUA CREIGHTON</td>\n",
       "      <td>MALE</td>\n",
       "      <td>ADULT</td>\n",
       "    </tr>\n",
       "    <tr>\n",
       "      <th>4</th>\n",
       "      <td>ALLISON, MRS. HUDSON J C (BESSIE WALDO DANIELS)</td>\n",
       "      <td>FEMALE</td>\n",
       "      <td>ADULT</td>\n",
       "    </tr>\n",
       "    <tr>\n",
       "      <th>...</th>\n",
       "      <td>...</td>\n",
       "      <td>...</td>\n",
       "      <td>...</td>\n",
       "    </tr>\n",
       "    <tr>\n",
       "      <th>1304</th>\n",
       "      <td>ZABOUR, MISS. HILENI</td>\n",
       "      <td>FEMALE</td>\n",
       "      <td>TEEN</td>\n",
       "    </tr>\n",
       "    <tr>\n",
       "      <th>1305</th>\n",
       "      <td>ZABOUR, MISS. THAMINE</td>\n",
       "      <td>FEMALE</td>\n",
       "      <td>SENIOR</td>\n",
       "    </tr>\n",
       "    <tr>\n",
       "      <th>1306</th>\n",
       "      <td>ZAKARIAN, MR. MAPRIEDEDER</td>\n",
       "      <td>MALE</td>\n",
       "      <td>ADULT</td>\n",
       "    </tr>\n",
       "    <tr>\n",
       "      <th>1307</th>\n",
       "      <td>ZAKARIAN, MR. ORTIN</td>\n",
       "      <td>MALE</td>\n",
       "      <td>ADULT</td>\n",
       "    </tr>\n",
       "    <tr>\n",
       "      <th>1308</th>\n",
       "      <td>ZIMMERMAN, MR. LEO</td>\n",
       "      <td>MALE</td>\n",
       "      <td>ADULT</td>\n",
       "    </tr>\n",
       "  </tbody>\n",
       "</table>\n",
       "<p>1309 rows × 3 columns</p>\n",
       "</div>"
      ]
     },
     "execution_count": 67,
     "metadata": {},
     "output_type": "execute_result"
    }
   ],
   "execution_count": 67
  },
  {
   "metadata": {
    "ExecuteTime": {
     "end_time": "2025-02-12T15:21:57.436345Z",
     "start_time": "2025-02-12T15:21:57.429770Z"
    }
   },
   "cell_type": "code",
   "source": "df",
   "id": "2cc832f6bb657a51",
   "outputs": [
    {
     "data": {
      "text/plain": [
       "      pclass  survived      age      fare\n",
       "0          1         1  29.0000  211.3375\n",
       "1          1         1   0.9167  151.5500\n",
       "2          1         0   2.0000  151.5500\n",
       "3          1         0  30.0000  151.5500\n",
       "4          1         0  25.0000  151.5500\n",
       "...      ...       ...      ...       ...\n",
       "1304       3         0  14.5000   14.4542\n",
       "1305       3         0      NaN   14.4542\n",
       "1306       3         0  26.5000    7.2250\n",
       "1307       3         0  27.0000    7.2250\n",
       "1308       3         0  29.0000    7.8750\n",
       "\n",
       "[1309 rows x 4 columns]"
      ],
      "text/html": [
       "<div>\n",
       "<style scoped>\n",
       "    .dataframe tbody tr th:only-of-type {\n",
       "        vertical-align: middle;\n",
       "    }\n",
       "\n",
       "    .dataframe tbody tr th {\n",
       "        vertical-align: top;\n",
       "    }\n",
       "\n",
       "    .dataframe thead th {\n",
       "        text-align: right;\n",
       "    }\n",
       "</style>\n",
       "<table border=\"1\" class=\"dataframe\">\n",
       "  <thead>\n",
       "    <tr style=\"text-align: right;\">\n",
       "      <th></th>\n",
       "      <th>pclass</th>\n",
       "      <th>survived</th>\n",
       "      <th>age</th>\n",
       "      <th>fare</th>\n",
       "    </tr>\n",
       "  </thead>\n",
       "  <tbody>\n",
       "    <tr>\n",
       "      <th>0</th>\n",
       "      <td>1</td>\n",
       "      <td>1</td>\n",
       "      <td>29.0000</td>\n",
       "      <td>211.3375</td>\n",
       "    </tr>\n",
       "    <tr>\n",
       "      <th>1</th>\n",
       "      <td>1</td>\n",
       "      <td>1</td>\n",
       "      <td>0.9167</td>\n",
       "      <td>151.5500</td>\n",
       "    </tr>\n",
       "    <tr>\n",
       "      <th>2</th>\n",
       "      <td>1</td>\n",
       "      <td>0</td>\n",
       "      <td>2.0000</td>\n",
       "      <td>151.5500</td>\n",
       "    </tr>\n",
       "    <tr>\n",
       "      <th>3</th>\n",
       "      <td>1</td>\n",
       "      <td>0</td>\n",
       "      <td>30.0000</td>\n",
       "      <td>151.5500</td>\n",
       "    </tr>\n",
       "    <tr>\n",
       "      <th>4</th>\n",
       "      <td>1</td>\n",
       "      <td>0</td>\n",
       "      <td>25.0000</td>\n",
       "      <td>151.5500</td>\n",
       "    </tr>\n",
       "    <tr>\n",
       "      <th>...</th>\n",
       "      <td>...</td>\n",
       "      <td>...</td>\n",
       "      <td>...</td>\n",
       "      <td>...</td>\n",
       "    </tr>\n",
       "    <tr>\n",
       "      <th>1304</th>\n",
       "      <td>3</td>\n",
       "      <td>0</td>\n",
       "      <td>14.5000</td>\n",
       "      <td>14.4542</td>\n",
       "    </tr>\n",
       "    <tr>\n",
       "      <th>1305</th>\n",
       "      <td>3</td>\n",
       "      <td>0</td>\n",
       "      <td>NaN</td>\n",
       "      <td>14.4542</td>\n",
       "    </tr>\n",
       "    <tr>\n",
       "      <th>1306</th>\n",
       "      <td>3</td>\n",
       "      <td>0</td>\n",
       "      <td>26.5000</td>\n",
       "      <td>7.2250</td>\n",
       "    </tr>\n",
       "    <tr>\n",
       "      <th>1307</th>\n",
       "      <td>3</td>\n",
       "      <td>0</td>\n",
       "      <td>27.0000</td>\n",
       "      <td>7.2250</td>\n",
       "    </tr>\n",
       "    <tr>\n",
       "      <th>1308</th>\n",
       "      <td>3</td>\n",
       "      <td>0</td>\n",
       "      <td>29.0000</td>\n",
       "      <td>7.8750</td>\n",
       "    </tr>\n",
       "  </tbody>\n",
       "</table>\n",
       "<p>1309 rows × 4 columns</p>\n",
       "</div>"
      ]
     },
     "execution_count": 68,
     "metadata": {},
     "output_type": "execute_result"
    }
   ],
   "execution_count": 68
  },
  {
   "metadata": {
    "ExecuteTime": {
     "end_time": "2025-02-12T15:22:32.294306Z",
     "start_time": "2025-02-12T15:22:32.286534Z"
    }
   },
   "cell_type": "code",
   "source": "df.map(lambda el : el * 7)",
   "id": "9d6f35ba5b8902ba",
   "outputs": [
    {
     "data": {
      "text/plain": [
       "      pclass  survived       age       fare\n",
       "0          7         7  203.0000  1479.3625\n",
       "1          7         7    6.4169  1060.8500\n",
       "2          7         0   14.0000  1060.8500\n",
       "3          7         0  210.0000  1060.8500\n",
       "4          7         0  175.0000  1060.8500\n",
       "...      ...       ...       ...        ...\n",
       "1304      21         0  101.5000   101.1794\n",
       "1305      21         0       NaN   101.1794\n",
       "1306      21         0  185.5000    50.5750\n",
       "1307      21         0  189.0000    50.5750\n",
       "1308      21         0  203.0000    55.1250\n",
       "\n",
       "[1309 rows x 4 columns]"
      ],
      "text/html": [
       "<div>\n",
       "<style scoped>\n",
       "    .dataframe tbody tr th:only-of-type {\n",
       "        vertical-align: middle;\n",
       "    }\n",
       "\n",
       "    .dataframe tbody tr th {\n",
       "        vertical-align: top;\n",
       "    }\n",
       "\n",
       "    .dataframe thead th {\n",
       "        text-align: right;\n",
       "    }\n",
       "</style>\n",
       "<table border=\"1\" class=\"dataframe\">\n",
       "  <thead>\n",
       "    <tr style=\"text-align: right;\">\n",
       "      <th></th>\n",
       "      <th>pclass</th>\n",
       "      <th>survived</th>\n",
       "      <th>age</th>\n",
       "      <th>fare</th>\n",
       "    </tr>\n",
       "  </thead>\n",
       "  <tbody>\n",
       "    <tr>\n",
       "      <th>0</th>\n",
       "      <td>7</td>\n",
       "      <td>7</td>\n",
       "      <td>203.0000</td>\n",
       "      <td>1479.3625</td>\n",
       "    </tr>\n",
       "    <tr>\n",
       "      <th>1</th>\n",
       "      <td>7</td>\n",
       "      <td>7</td>\n",
       "      <td>6.4169</td>\n",
       "      <td>1060.8500</td>\n",
       "    </tr>\n",
       "    <tr>\n",
       "      <th>2</th>\n",
       "      <td>7</td>\n",
       "      <td>0</td>\n",
       "      <td>14.0000</td>\n",
       "      <td>1060.8500</td>\n",
       "    </tr>\n",
       "    <tr>\n",
       "      <th>3</th>\n",
       "      <td>7</td>\n",
       "      <td>0</td>\n",
       "      <td>210.0000</td>\n",
       "      <td>1060.8500</td>\n",
       "    </tr>\n",
       "    <tr>\n",
       "      <th>4</th>\n",
       "      <td>7</td>\n",
       "      <td>0</td>\n",
       "      <td>175.0000</td>\n",
       "      <td>1060.8500</td>\n",
       "    </tr>\n",
       "    <tr>\n",
       "      <th>...</th>\n",
       "      <td>...</td>\n",
       "      <td>...</td>\n",
       "      <td>...</td>\n",
       "      <td>...</td>\n",
       "    </tr>\n",
       "    <tr>\n",
       "      <th>1304</th>\n",
       "      <td>21</td>\n",
       "      <td>0</td>\n",
       "      <td>101.5000</td>\n",
       "      <td>101.1794</td>\n",
       "    </tr>\n",
       "    <tr>\n",
       "      <th>1305</th>\n",
       "      <td>21</td>\n",
       "      <td>0</td>\n",
       "      <td>NaN</td>\n",
       "      <td>101.1794</td>\n",
       "    </tr>\n",
       "    <tr>\n",
       "      <th>1306</th>\n",
       "      <td>21</td>\n",
       "      <td>0</td>\n",
       "      <td>185.5000</td>\n",
       "      <td>50.5750</td>\n",
       "    </tr>\n",
       "    <tr>\n",
       "      <th>1307</th>\n",
       "      <td>21</td>\n",
       "      <td>0</td>\n",
       "      <td>189.0000</td>\n",
       "      <td>50.5750</td>\n",
       "    </tr>\n",
       "    <tr>\n",
       "      <th>1308</th>\n",
       "      <td>21</td>\n",
       "      <td>0</td>\n",
       "      <td>203.0000</td>\n",
       "      <td>55.1250</td>\n",
       "    </tr>\n",
       "  </tbody>\n",
       "</table>\n",
       "<p>1309 rows × 4 columns</p>\n",
       "</div>"
      ]
     },
     "execution_count": 69,
     "metadata": {},
     "output_type": "execute_result"
    }
   ],
   "execution_count": 69
  },
  {
   "metadata": {
    "ExecuteTime": {
     "end_time": "2025-02-12T15:23:04.775679Z",
     "start_time": "2025-02-12T15:23:04.768027Z"
    }
   },
   "cell_type": "code",
   "source": "titanic[[\"name\", \"sex\", \"age_group\"]].map(len)",
   "id": "8e70bc3d397f2253",
   "outputs": [
    {
     "data": {
      "text/plain": [
       "      name  sex  age_group\n",
       "0       29    6          5\n",
       "1       30    4          6\n",
       "2       28    6          5\n",
       "3       36    4          5\n",
       "4       47    6          5\n",
       "...    ...  ...        ...\n",
       "1304    20    6          4\n",
       "1305    21    6          6\n",
       "1306    25    4          5\n",
       "1307    19    4          5\n",
       "1308    18    4          5\n",
       "\n",
       "[1309 rows x 3 columns]"
      ],
      "text/html": [
       "<div>\n",
       "<style scoped>\n",
       "    .dataframe tbody tr th:only-of-type {\n",
       "        vertical-align: middle;\n",
       "    }\n",
       "\n",
       "    .dataframe tbody tr th {\n",
       "        vertical-align: top;\n",
       "    }\n",
       "\n",
       "    .dataframe thead th {\n",
       "        text-align: right;\n",
       "    }\n",
       "</style>\n",
       "<table border=\"1\" class=\"dataframe\">\n",
       "  <thead>\n",
       "    <tr style=\"text-align: right;\">\n",
       "      <th></th>\n",
       "      <th>name</th>\n",
       "      <th>sex</th>\n",
       "      <th>age_group</th>\n",
       "    </tr>\n",
       "  </thead>\n",
       "  <tbody>\n",
       "    <tr>\n",
       "      <th>0</th>\n",
       "      <td>29</td>\n",
       "      <td>6</td>\n",
       "      <td>5</td>\n",
       "    </tr>\n",
       "    <tr>\n",
       "      <th>1</th>\n",
       "      <td>30</td>\n",
       "      <td>4</td>\n",
       "      <td>6</td>\n",
       "    </tr>\n",
       "    <tr>\n",
       "      <th>2</th>\n",
       "      <td>28</td>\n",
       "      <td>6</td>\n",
       "      <td>5</td>\n",
       "    </tr>\n",
       "    <tr>\n",
       "      <th>3</th>\n",
       "      <td>36</td>\n",
       "      <td>4</td>\n",
       "      <td>5</td>\n",
       "    </tr>\n",
       "    <tr>\n",
       "      <th>4</th>\n",
       "      <td>47</td>\n",
       "      <td>6</td>\n",
       "      <td>5</td>\n",
       "    </tr>\n",
       "    <tr>\n",
       "      <th>...</th>\n",
       "      <td>...</td>\n",
       "      <td>...</td>\n",
       "      <td>...</td>\n",
       "    </tr>\n",
       "    <tr>\n",
       "      <th>1304</th>\n",
       "      <td>20</td>\n",
       "      <td>6</td>\n",
       "      <td>4</td>\n",
       "    </tr>\n",
       "    <tr>\n",
       "      <th>1305</th>\n",
       "      <td>21</td>\n",
       "      <td>6</td>\n",
       "      <td>6</td>\n",
       "    </tr>\n",
       "    <tr>\n",
       "      <th>1306</th>\n",
       "      <td>25</td>\n",
       "      <td>4</td>\n",
       "      <td>5</td>\n",
       "    </tr>\n",
       "    <tr>\n",
       "      <th>1307</th>\n",
       "      <td>19</td>\n",
       "      <td>4</td>\n",
       "      <td>5</td>\n",
       "    </tr>\n",
       "    <tr>\n",
       "      <th>1308</th>\n",
       "      <td>18</td>\n",
       "      <td>4</td>\n",
       "      <td>5</td>\n",
       "    </tr>\n",
       "  </tbody>\n",
       "</table>\n",
       "<p>1309 rows × 3 columns</p>\n",
       "</div>"
      ]
     },
     "execution_count": 70,
     "metadata": {},
     "output_type": "execute_result"
    }
   ],
   "execution_count": 70
  }
 ],
 "metadata": {
  "kernelspec": {
   "display_name": "Python 3",
   "language": "python",
   "name": "python3"
  },
  "language_info": {
   "codemirror_mode": {
    "name": "ipython",
    "version": 2
   },
   "file_extension": ".py",
   "mimetype": "text/x-python",
   "name": "python",
   "nbconvert_exporter": "python",
   "pygments_lexer": "ipython2",
   "version": "2.7.6"
  }
 },
 "nbformat": 4,
 "nbformat_minor": 5
}
