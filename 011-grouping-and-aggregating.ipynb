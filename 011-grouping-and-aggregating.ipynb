{
 "cells": [
  {
   "metadata": {},
   "cell_type": "markdown",
   "source": "### Exploring Groups",
   "id": "2bb2087fd2b0548"
  },
  {
   "metadata": {
    "ExecuteTime": {
     "end_time": "2025-01-26T14:21:46.718232Z",
     "start_time": "2025-01-26T14:21:46.714441Z"
    }
   },
   "cell_type": "code",
   "source": [
    "import pandas as pd\n",
    "import matplotlib.pyplot as plt"
   ],
   "id": "60892c7dfc1e969b",
   "outputs": [],
   "execution_count": 39
  },
  {
   "metadata": {
    "ExecuteTime": {
     "end_time": "2025-01-26T14:21:46.923436Z",
     "start_time": "2025-01-26T14:21:46.919414Z"
    }
   },
   "cell_type": "code",
   "source": "carstocks = pd.read_csv('./data/car_stocks.csv')",
   "id": "4cff2420674287aa",
   "outputs": [],
   "execution_count": 40
  },
  {
   "metadata": {
    "ExecuteTime": {
     "end_time": "2025-01-26T14:21:47.092684Z",
     "start_time": "2025-01-26T14:21:47.088882Z"
    }
   },
   "cell_type": "code",
   "source": "carstocks.columns",
   "id": "d76642c31d0545ed",
   "outputs": [
    {
     "data": {
      "text/plain": [
       "Index(['Symbol', 'Date', 'Open', 'High', 'Low', 'Close', 'Adj Close',\n",
       "       'Volume'],\n",
       "      dtype='object')"
      ]
     },
     "execution_count": 41,
     "metadata": {},
     "output_type": "execute_result"
    }
   ],
   "execution_count": 41
  },
  {
   "metadata": {
    "ExecuteTime": {
     "end_time": "2025-01-26T14:21:47.280697Z",
     "start_time": "2025-01-26T14:21:47.272008Z"
    }
   },
   "cell_type": "code",
   "source": "carstocks.info()",
   "id": "c3bf77aa98b47593",
   "outputs": [
    {
     "name": "stdout",
     "output_type": "stream",
     "text": [
      "<class 'pandas.core.frame.DataFrame'>\n",
      "RangeIndex: 39 entries, 0 to 38\n",
      "Data columns (total 8 columns):\n",
      " #   Column     Non-Null Count  Dtype  \n",
      "---  ------     --------------  -----  \n",
      " 0   Symbol     39 non-null     object \n",
      " 1   Date       39 non-null     object \n",
      " 2   Open       39 non-null     float64\n",
      " 3   High       39 non-null     float64\n",
      " 4   Low        39 non-null     float64\n",
      " 5   Close      39 non-null     float64\n",
      " 6   Adj Close  39 non-null     float64\n",
      " 7   Volume     39 non-null     int64  \n",
      "dtypes: float64(5), int64(1), object(2)\n",
      "memory usage: 2.6+ KB\n"
     ]
    }
   ],
   "execution_count": 42
  },
  {
   "metadata": {
    "ExecuteTime": {
     "end_time": "2025-01-26T14:21:47.448686Z",
     "start_time": "2025-01-26T14:21:47.444931Z"
    }
   },
   "cell_type": "code",
   "source": "carstocks['Close'].mean()",
   "id": "60b704e847b29e1e",
   "outputs": [
    {
     "data": {
      "text/plain": [
       "np.float64(79.83897420512821)"
      ]
     },
     "execution_count": 43,
     "metadata": {},
     "output_type": "execute_result"
    }
   ],
   "execution_count": 43
  },
  {
   "metadata": {
    "ExecuteTime": {
     "end_time": "2025-01-26T14:21:47.596696Z",
     "start_time": "2025-01-26T14:21:47.592064Z"
    }
   },
   "cell_type": "code",
   "source": "carstocks[carstocks['Symbol'] == 'RIVN']['Close'].mean()",
   "id": "db8c62d0653d79d2",
   "outputs": [
    {
     "data": {
      "text/plain": [
       "np.float64(127.52307653846154)"
      ]
     },
     "execution_count": 44,
     "metadata": {},
     "output_type": "execute_result"
    }
   ],
   "execution_count": 44
  },
  {
   "metadata": {
    "ExecuteTime": {
     "end_time": "2025-01-26T14:21:47.760200Z",
     "start_time": "2025-01-26T14:21:47.755025Z"
    }
   },
   "cell_type": "code",
   "source": "carstocks[carstocks['Symbol'] == 'GM']['Close'].mean()",
   "id": "d52523c8c2467990",
   "outputs": [
    {
     "data": {
      "text/plain": [
       "np.float64(62.16461546153845)"
      ]
     },
     "execution_count": 45,
     "metadata": {},
     "output_type": "execute_result"
    }
   ],
   "execution_count": 45
  },
  {
   "metadata": {
    "ExecuteTime": {
     "end_time": "2025-01-26T14:21:47.925742Z",
     "start_time": "2025-01-26T14:21:47.921492Z"
    }
   },
   "cell_type": "code",
   "source": "carstocks[carstocks['Symbol'] == 'LCID']['Close'].mean()",
   "id": "b211ae84d5ee38f0",
   "outputs": [
    {
     "data": {
      "text/plain": [
       "np.float64(49.82923061538462)"
      ]
     },
     "execution_count": 46,
     "metadata": {},
     "output_type": "execute_result"
    }
   ],
   "execution_count": 46
  },
  {
   "metadata": {
    "ExecuteTime": {
     "end_time": "2025-01-26T14:21:48.079198Z",
     "start_time": "2025-01-26T14:21:48.072828Z"
    }
   },
   "cell_type": "code",
   "source": "carstocks.groupby('Symbol')['Close'].mean()",
   "id": "512afd696b885c4c",
   "outputs": [
    {
     "data": {
      "text/plain": [
       "Symbol\n",
       "GM       62.164615\n",
       "LCID     49.829231\n",
       "RIVN    127.523077\n",
       "Name: Close, dtype: float64"
      ]
     },
     "execution_count": 47,
     "metadata": {},
     "output_type": "execute_result"
    }
   ],
   "execution_count": 47
  },
  {
   "metadata": {
    "ExecuteTime": {
     "end_time": "2025-01-26T14:21:48.256185Z",
     "start_time": "2025-01-26T14:21:48.251293Z"
    }
   },
   "cell_type": "code",
   "source": "carstocks[carstocks['Symbol'] == 'RIVN']['Close'].mean()",
   "id": "52ec9716b83adff8",
   "outputs": [
    {
     "data": {
      "text/plain": [
       "np.float64(127.52307653846154)"
      ]
     },
     "execution_count": 48,
     "metadata": {},
     "output_type": "execute_result"
    }
   ],
   "execution_count": 48
  },
  {
   "metadata": {
    "ExecuteTime": {
     "end_time": "2025-01-26T14:21:48.423696Z",
     "start_time": "2025-01-26T14:21:48.416738Z"
    }
   },
   "cell_type": "code",
   "source": "titanic = pd.read_csv('./data/titanic.csv')",
   "id": "93d2971dda74cd6a",
   "outputs": [],
   "execution_count": 49
  },
  {
   "metadata": {
    "ExecuteTime": {
     "end_time": "2025-01-26T14:21:48.553681Z",
     "start_time": "2025-01-26T14:21:48.550133Z"
    }
   },
   "cell_type": "code",
   "source": "titanic['age'] = titanic['age'].replace(['?'], [None]).astype(float)",
   "id": "62dc65985bf971f2",
   "outputs": [],
   "execution_count": 50
  },
  {
   "metadata": {
    "ExecuteTime": {
     "end_time": "2025-01-26T14:21:48.710708Z",
     "start_time": "2025-01-26T14:21:48.707447Z"
    }
   },
   "cell_type": "code",
   "source": "df = titanic[['pclass', 'survived', 'sex', 'age']]",
   "id": "38f8efd88ddbc68",
   "outputs": [],
   "execution_count": 51
  },
  {
   "metadata": {},
   "cell_type": "markdown",
   "source": "The `groupby` method returns a `DataFrameGroupBy` object.",
   "id": "901bd9df7fb33142"
  },
  {
   "metadata": {
    "ExecuteTime": {
     "end_time": "2025-01-26T14:21:48.869222Z",
     "start_time": "2025-01-26T14:21:48.864950Z"
    }
   },
   "cell_type": "code",
   "source": "df.groupby(by='sex')",
   "id": "6983fb8d0b8f9867",
   "outputs": [
    {
     "data": {
      "text/plain": [
       "<pandas.core.groupby.generic.DataFrameGroupBy object at 0x000002493417A250>"
      ]
     },
     "execution_count": 52,
     "metadata": {},
     "output_type": "execute_result"
    }
   ],
   "execution_count": 52
  },
  {
   "metadata": {
    "ExecuteTime": {
     "end_time": "2025-01-26T14:21:49.022787Z",
     "start_time": "2025-01-26T14:21:49.019811Z"
    }
   },
   "cell_type": "code",
   "source": "gbo = df.groupby(by='sex')",
   "id": "474b53fd9ee7f818",
   "outputs": [],
   "execution_count": 53
  },
  {
   "metadata": {
    "ExecuteTime": {
     "end_time": "2025-01-26T14:21:49.206222Z",
     "start_time": "2025-01-26T14:21:49.201373Z"
    }
   },
   "cell_type": "code",
   "source": "gbo",
   "id": "2bb5ce6ce279966f",
   "outputs": [
    {
     "data": {
      "text/plain": [
       "<pandas.core.groupby.generic.DataFrameGroupBy object at 0x000002493417A8B0>"
      ]
     },
     "execution_count": 54,
     "metadata": {},
     "output_type": "execute_result"
    }
   ],
   "execution_count": 54
  },
  {
   "metadata": {
    "ExecuteTime": {
     "end_time": "2025-01-26T14:21:49.380757Z",
     "start_time": "2025-01-26T14:21:49.377106Z"
    }
   },
   "cell_type": "code",
   "source": "gbo.ngroups",
   "id": "49a17970bac33842",
   "outputs": [
    {
     "data": {
      "text/plain": [
       "2"
      ]
     },
     "execution_count": 55,
     "metadata": {},
     "output_type": "execute_result"
    }
   ],
   "execution_count": 55
  },
  {
   "metadata": {
    "ExecuteTime": {
     "end_time": "2025-01-26T14:21:49.540217Z",
     "start_time": "2025-01-26T14:21:49.535779Z"
    }
   },
   "cell_type": "code",
   "source": [
    "# returns the indices for the members of each group\n",
    "gbo.groups"
   ],
   "id": "535c2c45914bae21",
   "outputs": [
    {
     "data": {
      "text/plain": [
       "{'female': [0, 2, 4, 6, 8, 11, 12, 13, 17, 18, 21, 23, 24, 27, 28, 32, 33, 35, 36, 41, 42, 43, 44, 48, 50, 55, 57, 59, 61, 63, 65, 66, 67, 69, 72, 73, 76, 78, 79, 82, 83, 85, 88, 90, 92, 95, 97, 98, 99, 102, 103, 104, 105, 107, 108, 111, 112, 113, 116, 117, 121, 122, 124, 127, 129, 130, 131, 134, 137, 139, 141, 144, 146, 149, 153, 155, 159, 160, 161, 163, 167, 168, 169, 176, 178, 180, 181, 182, 186, 187, 188, 190, 192, 193, 195, 198, 199, 204, 207, 208, ...], 'male': [1, 3, 5, 7, 9, 10, 14, 15, 16, 19, 20, 22, 25, 26, 29, 30, 31, 34, 37, 38, 39, 40, 45, 46, 47, 49, 51, 52, 53, 54, 56, 58, 60, 62, 64, 68, 70, 71, 74, 75, 77, 80, 81, 84, 86, 87, 89, 91, 93, 94, 96, 100, 101, 106, 109, 110, 114, 115, 118, 119, 120, 123, 125, 126, 128, 132, 133, 135, 136, 138, 140, 142, 143, 145, 147, 148, 150, 151, 152, 154, 156, 157, 158, 162, 164, 165, 166, 170, 171, 172, 173, 174, 175, 177, 179, 183, 184, 185, 189, 191, ...]}"
      ]
     },
     "execution_count": 56,
     "metadata": {},
     "output_type": "execute_result"
    }
   ],
   "execution_count": 56
  },
  {
   "metadata": {
    "ExecuteTime": {
     "end_time": "2025-01-26T14:21:49.709711Z",
     "start_time": "2025-01-26T14:21:49.704691Z"
    }
   },
   "cell_type": "code",
   "source": "df.groupby('age').ngroups",
   "id": "b2ef269d88781b00",
   "outputs": [
    {
     "data": {
      "text/plain": [
       "98"
      ]
     },
     "execution_count": 57,
     "metadata": {},
     "output_type": "execute_result"
    }
   ],
   "execution_count": 57
  },
  {
   "metadata": {
    "ExecuteTime": {
     "end_time": "2025-01-26T14:21:49.868221Z",
     "start_time": "2025-01-26T14:21:49.856837Z"
    }
   },
   "cell_type": "code",
   "source": "df.groupby('age').groups",
   "id": "30e1c06a237cf81f",
   "outputs": [
    {
     "data": {
      "text/plain": [
       "{0.1667: [763], 0.3333: [747], 0.4167: [1240], 0.6667: [427], 0.75: [657, 658, 1111], 0.8333: [359, 548, 611], 0.9167: [1, 590], 1.0: [339, 478, 492, 762, 826, 895, 937, 1048, 1101, 1187], 2.0: [2, 514, 540, 587, 624, 866, 1096, 1103, 1144, 1156, 1209, 1230], 3.0: [479, 515, 549, 641, 734, 1098, 1112], 4.0: [94, 340, 588, 622, 894, 916, 934, 1142, 1189, 1206], 5.0: [591, 639, 643, 659, 794], 6.0: [273, 430, 623, 678, 1025, 1097], 7.0: [434, 1102, 1143, 1256], 8.0: [377, 385, 398, 541, 1099, 1145], 9.0: [627, 640, 679, 733, 807, 820, 825, 1082, 1208, 1257], 10.0: [828, 1141, 1207, 1265], 11.0: [54, 628, 827, 855], 11.5: [1263], 12.0: [341, 582, 1056], 13.0: [249, 501, 601, 642, 653], 14.0: [55, 513, 569, 830, 1057, 1105, 1236, 1279], 14.5: [1171, 1304], 15.0: [193, 350, 792, 1007, 1047, 1300], 16.0: [159, 187, 195, 416, 510, 602, 604, 709, 761, 787, 810, 818, 829, 1093, 1104, 1161, 1232, 1244, 1275], 17.0: [53, 92, 229, 295, 390, 458, 482, 625, 650, 700, 701, 738, 740, 755, 772, 791, 841, 885, 910, 1133], 18.0: [11, 198, 228, 250, 270, 289, 326, 331, 386, 394, 395, 405, 408, 445, 558, 607, 612, 619, 636, 661, 665, 676, 695, 698, 717, 719, 786, 799, 809, 859, 938, 1045, 1060, 1130, 1157, 1205, 1260, 1273, 1288], 18.5: [568, 692, 919], 19.0: [27, 114, 137, 197, 216, 337, 344, 364, 503, 518, 530, 534, 552, 621, 669, 694, 731, 737, 744, 771, 777, 839, 898, 1011, 1050, 1108, 1127, 1217, 1226], 20.0: [353, 446, 520, 559, 606, 615, 633, 654, 664, 673, 687, 718, 836, 846, 883, 907, 970, 1049, 1089, 1091, 1092, 1191, 1278], 20.5: [977], 21.0: [190, 251, 307, 315, 317, 383, 404, 419, 420, 444, 453, 533, 553, 648, 675, 685, 693, 696, 702, 703, 704, 713, 754, 806, 850, 881, 908, 911, 913, 1017, 1020, 1062, 1065, 1107, 1117, 1140, 1182, 1204, 1224, 1289, 1295], 22.0: [36, 73, 122, 130, 220, 227, 236, 361, 380, 463, 468, 481, 523, 668, 671, 686, 689, 690, 725, 743, 753, 769, 785, 817, 862, 867, 890, 915, 932, 947, 952, 953, 986, 1046, 1067, 1079, 1119, 1147, 1201, 1227, 1277, 1280, 1281], 22.5: [741], 23.0: [102, 113, 140, 214, 225, 272, 332, 345, 403, 447, 465, 525, 547, 571, 579, 645, 649, 652, 780, 784, 861, 904, 980, 1075, 1090, 1223], 23.5: [847], 24.0: [12, 16, 111, 132, 153, 199, 255, 268, 271, 349, 376, 392, 421, 422, 428, 437, 438, 442, 460, 462, 467, 486, 494, 550, 599, 616, 637, 660, 708, 712, 720, 722, 752, 779, 783, 840, 845, 965, 985, 1010, 1019, 1040, 1125, 1134, 1181, 1188, 1237], 24.5: [1192], 25.0: [4, 25, 26, 143, 144, 327, 354, 356, 370, 393, 480, 555, 557, 565, 567, 605, 617, 635, 751, 766, 814, 853, 878, 941, 966, 1024, 1118, 1120, 1129, 1165, 1190, 1234, 1238, 1254], 26.0: [13, 22, 72, 346, 360, 417, 475, 517, 554, 598, 609, 613, 614, 631, 634, 663, 670, 677, 716, 764, 803, 849, 860, 889, 933, 936, 949, 975, 1061, 1113], 26.5: [1306], 27.0: [64, 71, 87, 90, 97, 151, 313, 348, 401, 507, 539, 556, 573, 575, 585, 630, 667, 730, 750, 857, 870, 877, 899, 906, 978, 1026, 1229, 1296, 1299, 1307], 28.0: [29, 52, 112, 203, 265, 324, 334, 338, 373, 375, 388, 431, 519, 527, 546, 572, 707, 711, 749, 838, 844, 863, 864, 869, 972, 1021, 1059, 1083, 1087, 1126, 1270, 1271], 28.5: [222, 1066, 1294], 29.0: [0, 24, 189, 226, 369, 372, 374, 391, 407, 452, 521, 526, 574, 586, 589, 688, 715, 746, 880, 893, 935, 950, 951, 990, 1058, 1100, 1196, 1231, 1258, 1308], 30.0: [3, 32, 67, 110, 117, 182, 191, 194, 209, 230, 258, 323, 325, 381, 402, 424, 426, 433, 476, 496, 499, 538, 545, 560, 562, 578, 608, 651, 697, 726, 732, 745, 760, 778, 875, 912, 969, 974, 1218, 1267], 30.5: [992, 1251], 31.0: [89, 91, 213, 239, 298, 309, 319, 378, 379, 474, 493, 577, 580, 596, 723, 724, 823, 892, 1086, 1094, 1228, 1274, 1276], 32.0: [18, 278, 336, 389, 443, 464, 498, 536, 620, 655, 674, 684, 714, 776, 834, 905, 909, 959, 981, 1088, 1110, 1131, 1220, 1248], 32.5: [173, 512, 584, 1285], 33.0: [51, 65, 88, 207, 242, 245, 248, 457, 542, 593, 656, 765, 781, 821, 891, 897, 914, 996, 1051, 1222, 1269], 34.0: [259, 328, 343, 396, 400, 414, 415, 423, 466, 484, 537, 544, 748, 888, 1031, 1239], 34.5: [924, 960], 35.0: [28, 127, 129, 149, 163, 164, 167, 183, 257, 261, 302, 362, 412, 470, 563, 603, 618, 638, 691, 729, 995, 1008, 1148], 36.0: [19, 49, 56, 57, 60, 66, 82, 105, 109, 202, 244, 322, 329, 333, 342, 355, 409, 448, 485, 543, 592, 721, 735, 759, 770, 939, 963, 968, 1259, 1266, 1298], 36.5: [516, 758], 37.0: [20, 77, 126, 208, 212, 368, 710, 837, 943], 38.0: [85, 103, 138, 165, 168, 234, 411, 413, 626, 646, 699, 824, 1139, 1286], 38.5: [1169], 39.0: [7, 76, 84, 101, 180, 218, 263, 291, 296, 504, 509, 522, 629, 632, 790, 917, 964, 1064, 1146, 1183], 40.0: [31, 150, 260, 275, 299, 352, 406, 497, 564, 576, 583, 610, 644, 662, 683, 831, 1203, 1210], 40.5: [796, 797, 1264], 41.0: [38, 44, 175, 502, 532, 566, 822, 848, 1063, 1106, 1158], 42.0: [23, 34, 47, 156, 162, 177, 185, 347, 357, 358, 399, 454, 459, 489, 600, 773, 873, 1084], 43.0: [120, 238, 281, 435, 535, 728, 774, 832, 868], 44.0: [41, 160, 206, 365, 429, 451, 739, 925, 1233, 1252], 45.0: [30, 35, 45, 68, 131, 141, 148, 178, 240, 274, 311, 371, 436, 471, 647, 666, 742, 788, 851, 967, 1211], 45.5: [224, 1301], 46.0: [62, 142, 171, 200, 243, 500], 47.0: [10, 21, 63, 75, 128, 211, 232, 301, 418, 461, 793, 1153, 1272, 1290], 48.0: [5, 39, 98, 99, 124, 145, 253, 288, 292, 387, 440, 505, 811, 884], 49.0: [58, 100, 133, 146, 170, 181, 294, 439, 896], 50.0: [17, 96, 119, 169, 172, 262, 312, 314, 450, 488, 529, 551, 570, 1152, 1160], 51.0: [86, 161, 188, 316, 335, 833, 979, 1287], 52.0: [155, 231, 282, 290, 367, 425], 53.0: [8, 48, 93, 136], 54.0: [95, 104, 201, 247, 280, 306, 366, 397, 449, 508], 55.0: [79, 154, 158, 186, 210, 246, 308, 441], 55.5: [1015], 56.0: [233, 264, 266, 267], 57.0: [276, 310, 330, 472, 490], 58.0: [33, 50, 139, 174, 192, 215], 59.0: [42, 561, 736], 60.0: [43, 116, 123, 304, 305, 351, 456], 60.5: [1225], 61.0: [252, 287, 300, 487, 1068], 62.0: [279, 284, 321, 432, 511], 63.0: [6, 286, 455, 1261], 64.0: [78, 83, 115, 217, 303], 65.0: [205, 221, 782], 66.0: [594], 67.0: [285], 70.0: [81, 506], 70.5: [727], 71.0: [9, 135], 74.0: [1235], 76.0: [61], 80.0: [14]}"
      ]
     },
     "execution_count": 58,
     "metadata": {},
     "output_type": "execute_result"
    }
   ],
   "execution_count": 58
  },
  {
   "metadata": {
    "ExecuteTime": {
     "end_time": "2025-01-26T14:21:50.034217Z",
     "start_time": "2025-01-26T14:21:50.027359Z"
    }
   },
   "cell_type": "code",
   "source": "gbo.first()",
   "id": "a78afa618b289fe6",
   "outputs": [
    {
     "data": {
      "text/plain": [
       "        pclass  survived      age\n",
       "sex                              \n",
       "female       1         1  29.0000\n",
       "male         1         1   0.9167"
      ],
      "text/html": [
       "<div>\n",
       "<style scoped>\n",
       "    .dataframe tbody tr th:only-of-type {\n",
       "        vertical-align: middle;\n",
       "    }\n",
       "\n",
       "    .dataframe tbody tr th {\n",
       "        vertical-align: top;\n",
       "    }\n",
       "\n",
       "    .dataframe thead th {\n",
       "        text-align: right;\n",
       "    }\n",
       "</style>\n",
       "<table border=\"1\" class=\"dataframe\">\n",
       "  <thead>\n",
       "    <tr style=\"text-align: right;\">\n",
       "      <th></th>\n",
       "      <th>pclass</th>\n",
       "      <th>survived</th>\n",
       "      <th>age</th>\n",
       "    </tr>\n",
       "    <tr>\n",
       "      <th>sex</th>\n",
       "      <th></th>\n",
       "      <th></th>\n",
       "      <th></th>\n",
       "    </tr>\n",
       "  </thead>\n",
       "  <tbody>\n",
       "    <tr>\n",
       "      <th>female</th>\n",
       "      <td>1</td>\n",
       "      <td>1</td>\n",
       "      <td>29.0000</td>\n",
       "    </tr>\n",
       "    <tr>\n",
       "      <th>male</th>\n",
       "      <td>1</td>\n",
       "      <td>1</td>\n",
       "      <td>0.9167</td>\n",
       "    </tr>\n",
       "  </tbody>\n",
       "</table>\n",
       "</div>"
      ]
     },
     "execution_count": 59,
     "metadata": {},
     "output_type": "execute_result"
    }
   ],
   "execution_count": 59
  },
  {
   "metadata": {
    "ExecuteTime": {
     "end_time": "2025-01-26T14:21:50.232211Z",
     "start_time": "2025-01-26T14:21:50.224659Z"
    }
   },
   "cell_type": "code",
   "source": "df.groupby('age').first()",
   "id": "7fbd56f0e5c00e54",
   "outputs": [
    {
     "data": {
      "text/plain": [
       "         pclass  survived     sex\n",
       "age                              \n",
       "0.1667        3         1  female\n",
       "0.3333        3         0    male\n",
       "0.4167        3         1    male\n",
       "0.6667        2         1    male\n",
       "0.7500        3         1  female\n",
       "...         ...       ...     ...\n",
       "70.5000       3         0    male\n",
       "71.0000       1         0    male\n",
       "74.0000       3         0    male\n",
       "76.0000       1         1  female\n",
       "80.0000       1         1    male\n",
       "\n",
       "[98 rows x 3 columns]"
      ],
      "text/html": [
       "<div>\n",
       "<style scoped>\n",
       "    .dataframe tbody tr th:only-of-type {\n",
       "        vertical-align: middle;\n",
       "    }\n",
       "\n",
       "    .dataframe tbody tr th {\n",
       "        vertical-align: top;\n",
       "    }\n",
       "\n",
       "    .dataframe thead th {\n",
       "        text-align: right;\n",
       "    }\n",
       "</style>\n",
       "<table border=\"1\" class=\"dataframe\">\n",
       "  <thead>\n",
       "    <tr style=\"text-align: right;\">\n",
       "      <th></th>\n",
       "      <th>pclass</th>\n",
       "      <th>survived</th>\n",
       "      <th>sex</th>\n",
       "    </tr>\n",
       "    <tr>\n",
       "      <th>age</th>\n",
       "      <th></th>\n",
       "      <th></th>\n",
       "      <th></th>\n",
       "    </tr>\n",
       "  </thead>\n",
       "  <tbody>\n",
       "    <tr>\n",
       "      <th>0.1667</th>\n",
       "      <td>3</td>\n",
       "      <td>1</td>\n",
       "      <td>female</td>\n",
       "    </tr>\n",
       "    <tr>\n",
       "      <th>0.3333</th>\n",
       "      <td>3</td>\n",
       "      <td>0</td>\n",
       "      <td>male</td>\n",
       "    </tr>\n",
       "    <tr>\n",
       "      <th>0.4167</th>\n",
       "      <td>3</td>\n",
       "      <td>1</td>\n",
       "      <td>male</td>\n",
       "    </tr>\n",
       "    <tr>\n",
       "      <th>0.6667</th>\n",
       "      <td>2</td>\n",
       "      <td>1</td>\n",
       "      <td>male</td>\n",
       "    </tr>\n",
       "    <tr>\n",
       "      <th>0.7500</th>\n",
       "      <td>3</td>\n",
       "      <td>1</td>\n",
       "      <td>female</td>\n",
       "    </tr>\n",
       "    <tr>\n",
       "      <th>...</th>\n",
       "      <td>...</td>\n",
       "      <td>...</td>\n",
       "      <td>...</td>\n",
       "    </tr>\n",
       "    <tr>\n",
       "      <th>70.5000</th>\n",
       "      <td>3</td>\n",
       "      <td>0</td>\n",
       "      <td>male</td>\n",
       "    </tr>\n",
       "    <tr>\n",
       "      <th>71.0000</th>\n",
       "      <td>1</td>\n",
       "      <td>0</td>\n",
       "      <td>male</td>\n",
       "    </tr>\n",
       "    <tr>\n",
       "      <th>74.0000</th>\n",
       "      <td>3</td>\n",
       "      <td>0</td>\n",
       "      <td>male</td>\n",
       "    </tr>\n",
       "    <tr>\n",
       "      <th>76.0000</th>\n",
       "      <td>1</td>\n",
       "      <td>1</td>\n",
       "      <td>female</td>\n",
       "    </tr>\n",
       "    <tr>\n",
       "      <th>80.0000</th>\n",
       "      <td>1</td>\n",
       "      <td>1</td>\n",
       "      <td>male</td>\n",
       "    </tr>\n",
       "  </tbody>\n",
       "</table>\n",
       "<p>98 rows × 3 columns</p>\n",
       "</div>"
      ]
     },
     "execution_count": 60,
     "metadata": {},
     "output_type": "execute_result"
    }
   ],
   "execution_count": 60
  },
  {
   "metadata": {
    "ExecuteTime": {
     "end_time": "2025-01-26T14:21:50.393737Z",
     "start_time": "2025-01-26T14:21:50.386965Z"
    }
   },
   "cell_type": "code",
   "source": "gbo.get_group('female')",
   "id": "a9c58536652e216",
   "outputs": [
    {
     "data": {
      "text/plain": [
       "      pclass  survived     sex   age\n",
       "0          1         1  female  29.0\n",
       "2          1         0  female   2.0\n",
       "4          1         0  female  25.0\n",
       "6          1         1  female  63.0\n",
       "8          1         1  female  53.0\n",
       "...      ...       ...     ...   ...\n",
       "1286       3         1  female  38.0\n",
       "1290       3         1  female  47.0\n",
       "1300       3         1  female  15.0\n",
       "1304       3         0  female  14.5\n",
       "1305       3         0  female   NaN\n",
       "\n",
       "[466 rows x 4 columns]"
      ],
      "text/html": [
       "<div>\n",
       "<style scoped>\n",
       "    .dataframe tbody tr th:only-of-type {\n",
       "        vertical-align: middle;\n",
       "    }\n",
       "\n",
       "    .dataframe tbody tr th {\n",
       "        vertical-align: top;\n",
       "    }\n",
       "\n",
       "    .dataframe thead th {\n",
       "        text-align: right;\n",
       "    }\n",
       "</style>\n",
       "<table border=\"1\" class=\"dataframe\">\n",
       "  <thead>\n",
       "    <tr style=\"text-align: right;\">\n",
       "      <th></th>\n",
       "      <th>pclass</th>\n",
       "      <th>survived</th>\n",
       "      <th>sex</th>\n",
       "      <th>age</th>\n",
       "    </tr>\n",
       "  </thead>\n",
       "  <tbody>\n",
       "    <tr>\n",
       "      <th>0</th>\n",
       "      <td>1</td>\n",
       "      <td>1</td>\n",
       "      <td>female</td>\n",
       "      <td>29.0</td>\n",
       "    </tr>\n",
       "    <tr>\n",
       "      <th>2</th>\n",
       "      <td>1</td>\n",
       "      <td>0</td>\n",
       "      <td>female</td>\n",
       "      <td>2.0</td>\n",
       "    </tr>\n",
       "    <tr>\n",
       "      <th>4</th>\n",
       "      <td>1</td>\n",
       "      <td>0</td>\n",
       "      <td>female</td>\n",
       "      <td>25.0</td>\n",
       "    </tr>\n",
       "    <tr>\n",
       "      <th>6</th>\n",
       "      <td>1</td>\n",
       "      <td>1</td>\n",
       "      <td>female</td>\n",
       "      <td>63.0</td>\n",
       "    </tr>\n",
       "    <tr>\n",
       "      <th>8</th>\n",
       "      <td>1</td>\n",
       "      <td>1</td>\n",
       "      <td>female</td>\n",
       "      <td>53.0</td>\n",
       "    </tr>\n",
       "    <tr>\n",
       "      <th>...</th>\n",
       "      <td>...</td>\n",
       "      <td>...</td>\n",
       "      <td>...</td>\n",
       "      <td>...</td>\n",
       "    </tr>\n",
       "    <tr>\n",
       "      <th>1286</th>\n",
       "      <td>3</td>\n",
       "      <td>1</td>\n",
       "      <td>female</td>\n",
       "      <td>38.0</td>\n",
       "    </tr>\n",
       "    <tr>\n",
       "      <th>1290</th>\n",
       "      <td>3</td>\n",
       "      <td>1</td>\n",
       "      <td>female</td>\n",
       "      <td>47.0</td>\n",
       "    </tr>\n",
       "    <tr>\n",
       "      <th>1300</th>\n",
       "      <td>3</td>\n",
       "      <td>1</td>\n",
       "      <td>female</td>\n",
       "      <td>15.0</td>\n",
       "    </tr>\n",
       "    <tr>\n",
       "      <th>1304</th>\n",
       "      <td>3</td>\n",
       "      <td>0</td>\n",
       "      <td>female</td>\n",
       "      <td>14.5</td>\n",
       "    </tr>\n",
       "    <tr>\n",
       "      <th>1305</th>\n",
       "      <td>3</td>\n",
       "      <td>0</td>\n",
       "      <td>female</td>\n",
       "      <td>NaN</td>\n",
       "    </tr>\n",
       "  </tbody>\n",
       "</table>\n",
       "<p>466 rows × 4 columns</p>\n",
       "</div>"
      ]
     },
     "execution_count": 61,
     "metadata": {},
     "output_type": "execute_result"
    }
   ],
   "execution_count": 61
  },
  {
   "metadata": {
    "ExecuteTime": {
     "end_time": "2025-01-26T14:21:50.541226Z",
     "start_time": "2025-01-26T14:21:50.533744Z"
    }
   },
   "cell_type": "code",
   "source": "gbo.get_group('male')",
   "id": "874811300e96aa49",
   "outputs": [
    {
     "data": {
      "text/plain": [
       "      pclass  survived   sex      age\n",
       "1          1         1  male   0.9167\n",
       "3          1         0  male  30.0000\n",
       "5          1         1  male  48.0000\n",
       "7          1         0  male  39.0000\n",
       "9          1         0  male  71.0000\n",
       "...      ...       ...   ...      ...\n",
       "1302       3         0  male      NaN\n",
       "1303       3         0  male      NaN\n",
       "1306       3         0  male  26.5000\n",
       "1307       3         0  male  27.0000\n",
       "1308       3         0  male  29.0000\n",
       "\n",
       "[843 rows x 4 columns]"
      ],
      "text/html": [
       "<div>\n",
       "<style scoped>\n",
       "    .dataframe tbody tr th:only-of-type {\n",
       "        vertical-align: middle;\n",
       "    }\n",
       "\n",
       "    .dataframe tbody tr th {\n",
       "        vertical-align: top;\n",
       "    }\n",
       "\n",
       "    .dataframe thead th {\n",
       "        text-align: right;\n",
       "    }\n",
       "</style>\n",
       "<table border=\"1\" class=\"dataframe\">\n",
       "  <thead>\n",
       "    <tr style=\"text-align: right;\">\n",
       "      <th></th>\n",
       "      <th>pclass</th>\n",
       "      <th>survived</th>\n",
       "      <th>sex</th>\n",
       "      <th>age</th>\n",
       "    </tr>\n",
       "  </thead>\n",
       "  <tbody>\n",
       "    <tr>\n",
       "      <th>1</th>\n",
       "      <td>1</td>\n",
       "      <td>1</td>\n",
       "      <td>male</td>\n",
       "      <td>0.9167</td>\n",
       "    </tr>\n",
       "    <tr>\n",
       "      <th>3</th>\n",
       "      <td>1</td>\n",
       "      <td>0</td>\n",
       "      <td>male</td>\n",
       "      <td>30.0000</td>\n",
       "    </tr>\n",
       "    <tr>\n",
       "      <th>5</th>\n",
       "      <td>1</td>\n",
       "      <td>1</td>\n",
       "      <td>male</td>\n",
       "      <td>48.0000</td>\n",
       "    </tr>\n",
       "    <tr>\n",
       "      <th>7</th>\n",
       "      <td>1</td>\n",
       "      <td>0</td>\n",
       "      <td>male</td>\n",
       "      <td>39.0000</td>\n",
       "    </tr>\n",
       "    <tr>\n",
       "      <th>9</th>\n",
       "      <td>1</td>\n",
       "      <td>0</td>\n",
       "      <td>male</td>\n",
       "      <td>71.0000</td>\n",
       "    </tr>\n",
       "    <tr>\n",
       "      <th>...</th>\n",
       "      <td>...</td>\n",
       "      <td>...</td>\n",
       "      <td>...</td>\n",
       "      <td>...</td>\n",
       "    </tr>\n",
       "    <tr>\n",
       "      <th>1302</th>\n",
       "      <td>3</td>\n",
       "      <td>0</td>\n",
       "      <td>male</td>\n",
       "      <td>NaN</td>\n",
       "    </tr>\n",
       "    <tr>\n",
       "      <th>1303</th>\n",
       "      <td>3</td>\n",
       "      <td>0</td>\n",
       "      <td>male</td>\n",
       "      <td>NaN</td>\n",
       "    </tr>\n",
       "    <tr>\n",
       "      <th>1306</th>\n",
       "      <td>3</td>\n",
       "      <td>0</td>\n",
       "      <td>male</td>\n",
       "      <td>26.5000</td>\n",
       "    </tr>\n",
       "    <tr>\n",
       "      <th>1307</th>\n",
       "      <td>3</td>\n",
       "      <td>0</td>\n",
       "      <td>male</td>\n",
       "      <td>27.0000</td>\n",
       "    </tr>\n",
       "    <tr>\n",
       "      <th>1308</th>\n",
       "      <td>3</td>\n",
       "      <td>0</td>\n",
       "      <td>male</td>\n",
       "      <td>29.0000</td>\n",
       "    </tr>\n",
       "  </tbody>\n",
       "</table>\n",
       "<p>843 rows × 4 columns</p>\n",
       "</div>"
      ]
     },
     "execution_count": 62,
     "metadata": {},
     "output_type": "execute_result"
    }
   ],
   "execution_count": 62
  },
  {
   "metadata": {
    "ExecuteTime": {
     "end_time": "2025-01-26T14:21:50.730721Z",
     "start_time": "2025-01-26T14:21:50.724326Z"
    }
   },
   "cell_type": "code",
   "source": [
    "for name, group in gbo:\n",
    "    print(name)\n",
    "    print('---------')\n",
    "    print(group)"
   ],
   "id": "fb8ab89bb06d3e6c",
   "outputs": [
    {
     "name": "stdout",
     "output_type": "stream",
     "text": [
      "female\n",
      "---------\n",
      "      pclass  survived     sex   age\n",
      "0          1         1  female  29.0\n",
      "2          1         0  female   2.0\n",
      "4          1         0  female  25.0\n",
      "6          1         1  female  63.0\n",
      "8          1         1  female  53.0\n",
      "...      ...       ...     ...   ...\n",
      "1286       3         1  female  38.0\n",
      "1290       3         1  female  47.0\n",
      "1300       3         1  female  15.0\n",
      "1304       3         0  female  14.5\n",
      "1305       3         0  female   NaN\n",
      "\n",
      "[466 rows x 4 columns]\n",
      "male\n",
      "---------\n",
      "      pclass  survived   sex      age\n",
      "1          1         1  male   0.9167\n",
      "3          1         0  male  30.0000\n",
      "5          1         1  male  48.0000\n",
      "7          1         0  male  39.0000\n",
      "9          1         0  male  71.0000\n",
      "...      ...       ...   ...      ...\n",
      "1302       3         0  male      NaN\n",
      "1303       3         0  male      NaN\n",
      "1306       3         0  male  26.5000\n",
      "1307       3         0  male  27.0000\n",
      "1308       3         0  male  29.0000\n",
      "\n",
      "[843 rows x 4 columns]\n"
     ]
    }
   ],
   "execution_count": 63
  },
  {
   "metadata": {},
   "cell_type": "markdown",
   "source": "### Split-Apply-Combine",
   "id": "5b363f26d140908b"
  },
  {
   "metadata": {},
   "cell_type": "markdown",
   "source": "When applying calculations to the group object, a series is returned.",
   "id": "4b8562db4df8fef9"
  },
  {
   "metadata": {
    "ExecuteTime": {
     "end_time": "2025-01-26T14:29:53.141666Z",
     "start_time": "2025-01-26T14:29:53.137520Z"
    }
   },
   "cell_type": "code",
   "source": "gbo['age'].mean()",
   "id": "dac72b579870bc38",
   "outputs": [
    {
     "data": {
      "text/plain": [
       "sex\n",
       "female    28.687071\n",
       "male      30.585233\n",
       "Name: age, dtype: float64"
      ]
     },
     "execution_count": 70,
     "metadata": {},
     "output_type": "execute_result"
    }
   ],
   "execution_count": 70
  },
  {
   "metadata": {
    "ExecuteTime": {
     "end_time": "2025-01-26T14:24:29.897156Z",
     "start_time": "2025-01-26T14:24:29.891583Z"
    }
   },
   "cell_type": "code",
   "source": "gbo['age'].max()",
   "id": "d81939d4134a30de",
   "outputs": [
    {
     "data": {
      "text/plain": [
       "sex\n",
       "female    76.0\n",
       "male      80.0\n",
       "Name: age, dtype: float64"
      ]
     },
     "execution_count": 65,
     "metadata": {},
     "output_type": "execute_result"
    }
   ],
   "execution_count": 65
  },
  {
   "metadata": {
    "ExecuteTime": {
     "end_time": "2025-01-26T14:25:38.740626Z",
     "start_time": "2025-01-26T14:25:38.651552Z"
    }
   },
   "cell_type": "code",
   "source": "gbo['age'].mean().plot(kind='bar', title='Average Age by Sex')",
   "id": "74908f26a937972",
   "outputs": [
    {
     "data": {
      "text/plain": [
       "<Axes: title={'center': 'Average Age by Sex'}, xlabel='sex'>"
      ]
     },
     "execution_count": 67,
     "metadata": {},
     "output_type": "execute_result"
    },
    {
     "data": {
      "text/plain": [
       "<Figure size 640x480 with 1 Axes>"
      ],
      "image/png": "[encoded data removed]"
     },
     "metadata": {},
     "output_type": "display_data"
    }
   ],
   "execution_count": 67
  },
  {
   "metadata": {
    "ExecuteTime": {
     "end_time": "2025-01-26T14:30:06.966121Z",
     "start_time": "2025-01-26T14:30:06.960759Z"
    }
   },
   "cell_type": "code",
   "source": "titanic.groupby('pclass')['age'].mean()",
   "id": "cc3122b3f0b8f70c",
   "outputs": [
    {
     "data": {
      "text/plain": [
       "pclass\n",
       "1    39.159918\n",
       "2    29.506705\n",
       "3    24.816367\n",
       "Name: age, dtype: float64"
      ]
     },
     "execution_count": 72,
     "metadata": {},
     "output_type": "execute_result"
    }
   ],
   "execution_count": 72
  },
  {
   "metadata": {
    "ExecuteTime": {
     "end_time": "2025-01-26T14:30:38.426975Z",
     "start_time": "2025-01-26T14:30:38.421695Z"
    }
   },
   "cell_type": "code",
   "source": "titanic.groupby('sex')['pclass'].mean()",
   "id": "afc4cbdfcd0a4bc6",
   "outputs": [
    {
     "data": {
      "text/plain": [
       "sex\n",
       "female    2.154506\n",
       "male      2.372479\n",
       "Name: pclass, dtype: float64"
      ]
     },
     "execution_count": 73,
     "metadata": {},
     "output_type": "execute_result"
    }
   ],
   "execution_count": 73
  },
  {
   "metadata": {
    "ExecuteTime": {
     "end_time": "2025-01-26T14:33:50.314095Z",
     "start_time": "2025-01-26T14:33:50.305809Z"
    }
   },
   "cell_type": "code",
   "source": "titanic.groupby('age').mean(numeric_only=True)",
   "id": "506b38d82b27fc29",
   "outputs": [
    {
     "data": {
      "text/plain": [
       "         pclass  survived     sibsp  parch\n",
       "age                                       \n",
       "0.1667      3.0  1.000000  1.000000    2.0\n",
       "0.3333      3.0  0.000000  0.000000    2.0\n",
       "0.4167      3.0  1.000000  0.000000    1.0\n",
       "0.6667      2.0  1.000000  1.000000    1.0\n",
       "0.7500      3.0  0.666667  1.666667    1.0\n",
       "...         ...       ...       ...    ...\n",
       "70.5000     3.0  0.000000  0.000000    0.0\n",
       "71.0000     1.0  0.000000  0.000000    0.0\n",
       "74.0000     3.0  0.000000  0.000000    0.0\n",
       "76.0000     1.0  1.000000  1.000000    0.0\n",
       "80.0000     1.0  1.000000  0.000000    0.0\n",
       "\n",
       "[98 rows x 4 columns]"
      ],
      "text/html": [
       "<div>\n",
       "<style scoped>\n",
       "    .dataframe tbody tr th:only-of-type {\n",
       "        vertical-align: middle;\n",
       "    }\n",
       "\n",
       "    .dataframe tbody tr th {\n",
       "        vertical-align: top;\n",
       "    }\n",
       "\n",
       "    .dataframe thead th {\n",
       "        text-align: right;\n",
       "    }\n",
       "</style>\n",
       "<table border=\"1\" class=\"dataframe\">\n",
       "  <thead>\n",
       "    <tr style=\"text-align: right;\">\n",
       "      <th></th>\n",
       "      <th>pclass</th>\n",
       "      <th>survived</th>\n",
       "      <th>sibsp</th>\n",
       "      <th>parch</th>\n",
       "    </tr>\n",
       "    <tr>\n",
       "      <th>age</th>\n",
       "      <th></th>\n",
       "      <th></th>\n",
       "      <th></th>\n",
       "      <th></th>\n",
       "    </tr>\n",
       "  </thead>\n",
       "  <tbody>\n",
       "    <tr>\n",
       "      <th>0.1667</th>\n",
       "      <td>3.0</td>\n",
       "      <td>1.000000</td>\n",
       "      <td>1.000000</td>\n",
       "      <td>2.0</td>\n",
       "    </tr>\n",
       "    <tr>\n",
       "      <th>0.3333</th>\n",
       "      <td>3.0</td>\n",
       "      <td>0.000000</td>\n",
       "      <td>0.000000</td>\n",
       "      <td>2.0</td>\n",
       "    </tr>\n",
       "    <tr>\n",
       "      <th>0.4167</th>\n",
       "      <td>3.0</td>\n",
       "      <td>1.000000</td>\n",
       "      <td>0.000000</td>\n",
       "      <td>1.0</td>\n",
       "    </tr>\n",
       "    <tr>\n",
       "      <th>0.6667</th>\n",
       "      <td>2.0</td>\n",
       "      <td>1.000000</td>\n",
       "      <td>1.000000</td>\n",
       "      <td>1.0</td>\n",
       "    </tr>\n",
       "    <tr>\n",
       "      <th>0.7500</th>\n",
       "      <td>3.0</td>\n",
       "      <td>0.666667</td>\n",
       "      <td>1.666667</td>\n",
       "      <td>1.0</td>\n",
       "    </tr>\n",
       "    <tr>\n",
       "      <th>...</th>\n",
       "      <td>...</td>\n",
       "      <td>...</td>\n",
       "      <td>...</td>\n",
       "      <td>...</td>\n",
       "    </tr>\n",
       "    <tr>\n",
       "      <th>70.5000</th>\n",
       "      <td>3.0</td>\n",
       "      <td>0.000000</td>\n",
       "      <td>0.000000</td>\n",
       "      <td>0.0</td>\n",
       "    </tr>\n",
       "    <tr>\n",
       "      <th>71.0000</th>\n",
       "      <td>1.0</td>\n",
       "      <td>0.000000</td>\n",
       "      <td>0.000000</td>\n",
       "      <td>0.0</td>\n",
       "    </tr>\n",
       "    <tr>\n",
       "      <th>74.0000</th>\n",
       "      <td>3.0</td>\n",
       "      <td>0.000000</td>\n",
       "      <td>0.000000</td>\n",
       "      <td>0.0</td>\n",
       "    </tr>\n",
       "    <tr>\n",
       "      <th>76.0000</th>\n",
       "      <td>1.0</td>\n",
       "      <td>1.000000</td>\n",
       "      <td>1.000000</td>\n",
       "      <td>0.0</td>\n",
       "    </tr>\n",
       "    <tr>\n",
       "      <th>80.0000</th>\n",
       "      <td>1.0</td>\n",
       "      <td>1.000000</td>\n",
       "      <td>0.000000</td>\n",
       "      <td>0.0</td>\n",
       "    </tr>\n",
       "  </tbody>\n",
       "</table>\n",
       "<p>98 rows × 4 columns</p>\n",
       "</div>"
      ]
     },
     "execution_count": 78,
     "metadata": {},
     "output_type": "execute_result"
    }
   ],
   "execution_count": 78
  },
  {
   "metadata": {
    "ExecuteTime": {
     "end_time": "2025-01-26T14:34:15.902322Z",
     "start_time": "2025-01-26T14:34:15.895350Z"
    }
   },
   "cell_type": "code",
   "source": "titanic.groupby('sex').mean(numeric_only=True)",
   "id": "631dcc0f57a879e9",
   "outputs": [
    {
     "data": {
      "text/plain": [
       "          pclass  survived        age     sibsp     parch\n",
       "sex                                                      \n",
       "female  2.154506  0.727468  28.687071  0.652361  0.633047\n",
       "male    2.372479  0.190985  30.585233  0.413998  0.247924"
      ],
      "text/html": [
       "<div>\n",
       "<style scoped>\n",
       "    .dataframe tbody tr th:only-of-type {\n",
       "        vertical-align: middle;\n",
       "    }\n",
       "\n",
       "    .dataframe tbody tr th {\n",
       "        vertical-align: top;\n",
       "    }\n",
       "\n",
       "    .dataframe thead th {\n",
       "        text-align: right;\n",
       "    }\n",
       "</style>\n",
       "<table border=\"1\" class=\"dataframe\">\n",
       "  <thead>\n",
       "    <tr style=\"text-align: right;\">\n",
       "      <th></th>\n",
       "      <th>pclass</th>\n",
       "      <th>survived</th>\n",
       "      <th>age</th>\n",
       "      <th>sibsp</th>\n",
       "      <th>parch</th>\n",
       "    </tr>\n",
       "    <tr>\n",
       "      <th>sex</th>\n",
       "      <th></th>\n",
       "      <th></th>\n",
       "      <th></th>\n",
       "      <th></th>\n",
       "      <th></th>\n",
       "    </tr>\n",
       "  </thead>\n",
       "  <tbody>\n",
       "    <tr>\n",
       "      <th>female</th>\n",
       "      <td>2.154506</td>\n",
       "      <td>0.727468</td>\n",
       "      <td>28.687071</td>\n",
       "      <td>0.652361</td>\n",
       "      <td>0.633047</td>\n",
       "    </tr>\n",
       "    <tr>\n",
       "      <th>male</th>\n",
       "      <td>2.372479</td>\n",
       "      <td>0.190985</td>\n",
       "      <td>30.585233</td>\n",
       "      <td>0.413998</td>\n",
       "      <td>0.247924</td>\n",
       "    </tr>\n",
       "  </tbody>\n",
       "</table>\n",
       "</div>"
      ]
     },
     "execution_count": 79,
     "metadata": {},
     "output_type": "execute_result"
    }
   ],
   "execution_count": 79
  },
  {
   "metadata": {
    "ExecuteTime": {
     "end_time": "2025-01-26T14:35:37.869258Z",
     "start_time": "2025-01-26T14:35:37.861864Z"
    }
   },
   "cell_type": "code",
   "source": "titanic.groupby('sex').max(numeric_only=True)",
   "id": "80e3b0fc121feeab",
   "outputs": [
    {
     "data": {
      "text/plain": [
       "        pclass  survived   age  sibsp  parch\n",
       "sex                                         \n",
       "female       3         1  76.0      8      9\n",
       "male         3         1  80.0      8      9"
      ],
      "text/html": [
       "<div>\n",
       "<style scoped>\n",
       "    .dataframe tbody tr th:only-of-type {\n",
       "        vertical-align: middle;\n",
       "    }\n",
       "\n",
       "    .dataframe tbody tr th {\n",
       "        vertical-align: top;\n",
       "    }\n",
       "\n",
       "    .dataframe thead th {\n",
       "        text-align: right;\n",
       "    }\n",
       "</style>\n",
       "<table border=\"1\" class=\"dataframe\">\n",
       "  <thead>\n",
       "    <tr style=\"text-align: right;\">\n",
       "      <th></th>\n",
       "      <th>pclass</th>\n",
       "      <th>survived</th>\n",
       "      <th>age</th>\n",
       "      <th>sibsp</th>\n",
       "      <th>parch</th>\n",
       "    </tr>\n",
       "    <tr>\n",
       "      <th>sex</th>\n",
       "      <th></th>\n",
       "      <th></th>\n",
       "      <th></th>\n",
       "      <th></th>\n",
       "      <th></th>\n",
       "    </tr>\n",
       "  </thead>\n",
       "  <tbody>\n",
       "    <tr>\n",
       "      <th>female</th>\n",
       "      <td>3</td>\n",
       "      <td>1</td>\n",
       "      <td>76.0</td>\n",
       "      <td>8</td>\n",
       "      <td>9</td>\n",
       "    </tr>\n",
       "    <tr>\n",
       "      <th>male</th>\n",
       "      <td>3</td>\n",
       "      <td>1</td>\n",
       "      <td>80.0</td>\n",
       "      <td>8</td>\n",
       "      <td>9</td>\n",
       "    </tr>\n",
       "  </tbody>\n",
       "</table>\n",
       "</div>"
      ]
     },
     "execution_count": 80,
     "metadata": {},
     "output_type": "execute_result"
    }
   ],
   "execution_count": 80
  },
  {
   "metadata": {
    "ExecuteTime": {
     "end_time": "2025-01-26T14:35:51.285236Z",
     "start_time": "2025-01-26T14:35:51.277402Z"
    }
   },
   "cell_type": "code",
   "source": "titanic.groupby('sex').min(numeric_only=True)",
   "id": "da03db1ec8e22c51",
   "outputs": [
    {
     "data": {
      "text/plain": [
       "        pclass  survived     age  sibsp  parch\n",
       "sex                                           \n",
       "female       1         0  0.1667      0      0\n",
       "male         1         0  0.3333      0      0"
      ],
      "text/html": [
       "<div>\n",
       "<style scoped>\n",
       "    .dataframe tbody tr th:only-of-type {\n",
       "        vertical-align: middle;\n",
       "    }\n",
       "\n",
       "    .dataframe tbody tr th {\n",
       "        vertical-align: top;\n",
       "    }\n",
       "\n",
       "    .dataframe thead th {\n",
       "        text-align: right;\n",
       "    }\n",
       "</style>\n",
       "<table border=\"1\" class=\"dataframe\">\n",
       "  <thead>\n",
       "    <tr style=\"text-align: right;\">\n",
       "      <th></th>\n",
       "      <th>pclass</th>\n",
       "      <th>survived</th>\n",
       "      <th>age</th>\n",
       "      <th>sibsp</th>\n",
       "      <th>parch</th>\n",
       "    </tr>\n",
       "    <tr>\n",
       "      <th>sex</th>\n",
       "      <th></th>\n",
       "      <th></th>\n",
       "      <th></th>\n",
       "      <th></th>\n",
       "      <th></th>\n",
       "    </tr>\n",
       "  </thead>\n",
       "  <tbody>\n",
       "    <tr>\n",
       "      <th>female</th>\n",
       "      <td>1</td>\n",
       "      <td>0</td>\n",
       "      <td>0.1667</td>\n",
       "      <td>0</td>\n",
       "      <td>0</td>\n",
       "    </tr>\n",
       "    <tr>\n",
       "      <th>male</th>\n",
       "      <td>1</td>\n",
       "      <td>0</td>\n",
       "      <td>0.3333</td>\n",
       "      <td>0</td>\n",
       "      <td>0</td>\n",
       "    </tr>\n",
       "  </tbody>\n",
       "</table>\n",
       "</div>"
      ]
     },
     "execution_count": 81,
     "metadata": {},
     "output_type": "execute_result"
    }
   ],
   "execution_count": 81
  },
  {
   "metadata": {
    "ExecuteTime": {
     "end_time": "2025-01-26T14:36:03.840102Z",
     "start_time": "2025-01-26T14:36:03.832579Z"
    }
   },
   "cell_type": "code",
   "source": "titanic.groupby('sex').median(numeric_only=True)",
   "id": "7649684b7dacf70c",
   "outputs": [
    {
     "data": {
      "text/plain": [
       "        pclass  survived   age  sibsp  parch\n",
       "sex                                         \n",
       "female     2.0       1.0  27.0    0.0    0.0\n",
       "male       3.0       0.0  28.0    0.0    0.0"
      ],
      "text/html": [
       "<div>\n",
       "<style scoped>\n",
       "    .dataframe tbody tr th:only-of-type {\n",
       "        vertical-align: middle;\n",
       "    }\n",
       "\n",
       "    .dataframe tbody tr th {\n",
       "        vertical-align: top;\n",
       "    }\n",
       "\n",
       "    .dataframe thead th {\n",
       "        text-align: right;\n",
       "    }\n",
       "</style>\n",
       "<table border=\"1\" class=\"dataframe\">\n",
       "  <thead>\n",
       "    <tr style=\"text-align: right;\">\n",
       "      <th></th>\n",
       "      <th>pclass</th>\n",
       "      <th>survived</th>\n",
       "      <th>age</th>\n",
       "      <th>sibsp</th>\n",
       "      <th>parch</th>\n",
       "    </tr>\n",
       "    <tr>\n",
       "      <th>sex</th>\n",
       "      <th></th>\n",
       "      <th></th>\n",
       "      <th></th>\n",
       "      <th></th>\n",
       "      <th></th>\n",
       "    </tr>\n",
       "  </thead>\n",
       "  <tbody>\n",
       "    <tr>\n",
       "      <th>female</th>\n",
       "      <td>2.0</td>\n",
       "      <td>1.0</td>\n",
       "      <td>27.0</td>\n",
       "      <td>0.0</td>\n",
       "      <td>0.0</td>\n",
       "    </tr>\n",
       "    <tr>\n",
       "      <th>male</th>\n",
       "      <td>3.0</td>\n",
       "      <td>0.0</td>\n",
       "      <td>28.0</td>\n",
       "      <td>0.0</td>\n",
       "      <td>0.0</td>\n",
       "    </tr>\n",
       "  </tbody>\n",
       "</table>\n",
       "</div>"
      ]
     },
     "execution_count": 82,
     "metadata": {},
     "output_type": "execute_result"
    }
   ],
   "execution_count": 82
  },
  {
   "metadata": {
    "ExecuteTime": {
     "end_time": "2025-01-26T14:36:41.869843Z",
     "start_time": "2025-01-26T14:36:41.864528Z"
    }
   },
   "cell_type": "code",
   "source": "carstocks.groupby('Symbol')['High'].max()",
   "id": "ed3df22c22ec36f4",
   "outputs": [
    {
     "data": {
      "text/plain": [
       "Symbol\n",
       "GM       65.180000\n",
       "LCID     57.750000\n",
       "RIVN    179.470001\n",
       "Name: High, dtype: float64"
      ]
     },
     "execution_count": 83,
     "metadata": {},
     "output_type": "execute_result"
    }
   ],
   "execution_count": 83
  },
  {
   "metadata": {},
   "cell_type": "markdown",
   "source": "### Aggregating",
   "id": "6452bc1cf1fb2e00"
  },
  {
   "metadata": {
    "ExecuteTime": {
     "end_time": "2025-01-26T14:40:09.083092Z",
     "start_time": "2025-01-26T14:40:09.069804Z"
    }
   },
   "cell_type": "code",
   "source": "titanic.groupby('sex').agg('min')",
   "id": "d8d73a0301315ed4",
   "outputs": [
    {
     "data": {
      "text/plain": [
       "        pclass  survived                              name     age  sibsp  \\\n",
       "sex                                                                         \n",
       "female       1         0  Abbott, Mrs. Stanton (Rosa Hunt)  0.1667      0   \n",
       "male         1         0               Abbing, Mr. Anthony  0.3333      0   \n",
       "\n",
       "        parch  ticket     fare cabin embarked boat body home.dest  \n",
       "sex                                                                \n",
       "female      0  110152  10.4625     ?        ?    1  206         ?  \n",
       "male        0  110413        0     ?        C    1    1         ?  "
      ],
      "text/html": [
       "<div>\n",
       "<style scoped>\n",
       "    .dataframe tbody tr th:only-of-type {\n",
       "        vertical-align: middle;\n",
       "    }\n",
       "\n",
       "    .dataframe tbody tr th {\n",
       "        vertical-align: top;\n",
       "    }\n",
       "\n",
       "    .dataframe thead th {\n",
       "        text-align: right;\n",
       "    }\n",
       "</style>\n",
       "<table border=\"1\" class=\"dataframe\">\n",
       "  <thead>\n",
       "    <tr style=\"text-align: right;\">\n",
       "      <th></th>\n",
       "      <th>pclass</th>\n",
       "      <th>survived</th>\n",
       "      <th>name</th>\n",
       "      <th>age</th>\n",
       "      <th>sibsp</th>\n",
       "      <th>parch</th>\n",
       "      <th>ticket</th>\n",
       "      <th>fare</th>\n",
       "      <th>cabin</th>\n",
       "      <th>embarked</th>\n",
       "      <th>boat</th>\n",
       "      <th>body</th>\n",
       "      <th>home.dest</th>\n",
       "    </tr>\n",
       "    <tr>\n",
       "      <th>sex</th>\n",
       "      <th></th>\n",
       "      <th></th>\n",
       "      <th></th>\n",
       "      <th></th>\n",
       "      <th></th>\n",
       "      <th></th>\n",
       "      <th></th>\n",
       "      <th></th>\n",
       "      <th></th>\n",
       "      <th></th>\n",
       "      <th></th>\n",
       "      <th></th>\n",
       "      <th></th>\n",
       "    </tr>\n",
       "  </thead>\n",
       "  <tbody>\n",
       "    <tr>\n",
       "      <th>female</th>\n",
       "      <td>1</td>\n",
       "      <td>0</td>\n",
       "      <td>Abbott, Mrs. Stanton (Rosa Hunt)</td>\n",
       "      <td>0.1667</td>\n",
       "      <td>0</td>\n",
       "      <td>0</td>\n",
       "      <td>110152</td>\n",
       "      <td>10.4625</td>\n",
       "      <td>?</td>\n",
       "      <td>?</td>\n",
       "      <td>1</td>\n",
       "      <td>206</td>\n",
       "      <td>?</td>\n",
       "    </tr>\n",
       "    <tr>\n",
       "      <th>male</th>\n",
       "      <td>1</td>\n",
       "      <td>0</td>\n",
       "      <td>Abbing, Mr. Anthony</td>\n",
       "      <td>0.3333</td>\n",
       "      <td>0</td>\n",
       "      <td>0</td>\n",
       "      <td>110413</td>\n",
       "      <td>0</td>\n",
       "      <td>?</td>\n",
       "      <td>C</td>\n",
       "      <td>1</td>\n",
       "      <td>1</td>\n",
       "      <td>?</td>\n",
       "    </tr>\n",
       "  </tbody>\n",
       "</table>\n",
       "</div>"
      ]
     },
     "execution_count": 84,
     "metadata": {},
     "output_type": "execute_result"
    }
   ],
   "execution_count": 84
  },
  {
   "metadata": {
    "ExecuteTime": {
     "end_time": "2025-01-26T14:40:32.653473Z",
     "start_time": "2025-01-26T14:40:32.648698Z"
    }
   },
   "cell_type": "code",
   "source": "titanic.groupby('sex')['age'].agg('min')",
   "id": "f5d4cb20c7b581c3",
   "outputs": [
    {
     "data": {
      "text/plain": [
       "sex\n",
       "female    0.1667\n",
       "male      0.3333\n",
       "Name: age, dtype: float64"
      ]
     },
     "execution_count": 85,
     "metadata": {},
     "output_type": "execute_result"
    }
   ],
   "execution_count": 85
  },
  {
   "metadata": {
    "ExecuteTime": {
     "end_time": "2025-01-26T14:40:58.818493Z",
     "start_time": "2025-01-26T14:40:58.811264Z"
    }
   },
   "cell_type": "code",
   "source": "titanic.groupby('sex')['age'].agg(['min', 'max', 'mean', 'median'])",
   "id": "17b0f3490fdd3f31",
   "outputs": [
    {
     "data": {
      "text/plain": [
       "           min   max       mean  median\n",
       "sex                                    \n",
       "female  0.1667  76.0  28.687071    27.0\n",
       "male    0.3333  80.0  30.585233    28.0"
      ],
      "text/html": [
       "<div>\n",
       "<style scoped>\n",
       "    .dataframe tbody tr th:only-of-type {\n",
       "        vertical-align: middle;\n",
       "    }\n",
       "\n",
       "    .dataframe tbody tr th {\n",
       "        vertical-align: top;\n",
       "    }\n",
       "\n",
       "    .dataframe thead th {\n",
       "        text-align: right;\n",
       "    }\n",
       "</style>\n",
       "<table border=\"1\" class=\"dataframe\">\n",
       "  <thead>\n",
       "    <tr style=\"text-align: right;\">\n",
       "      <th></th>\n",
       "      <th>min</th>\n",
       "      <th>max</th>\n",
       "      <th>mean</th>\n",
       "      <th>median</th>\n",
       "    </tr>\n",
       "    <tr>\n",
       "      <th>sex</th>\n",
       "      <th></th>\n",
       "      <th></th>\n",
       "      <th></th>\n",
       "      <th></th>\n",
       "    </tr>\n",
       "  </thead>\n",
       "  <tbody>\n",
       "    <tr>\n",
       "      <th>female</th>\n",
       "      <td>0.1667</td>\n",
       "      <td>76.0</td>\n",
       "      <td>28.687071</td>\n",
       "      <td>27.0</td>\n",
       "    </tr>\n",
       "    <tr>\n",
       "      <th>male</th>\n",
       "      <td>0.3333</td>\n",
       "      <td>80.0</td>\n",
       "      <td>30.585233</td>\n",
       "      <td>28.0</td>\n",
       "    </tr>\n",
       "  </tbody>\n",
       "</table>\n",
       "</div>"
      ]
     },
     "execution_count": 87,
     "metadata": {},
     "output_type": "execute_result"
    }
   ],
   "execution_count": 87
  },
  {
   "metadata": {
    "ExecuteTime": {
     "end_time": "2025-01-26T14:41:41.183673Z",
     "start_time": "2025-01-26T14:41:41.158455Z"
    }
   },
   "cell_type": "code",
   "source": "titanic.groupby('sex').agg(['min', 'max'])",
   "id": "7246c174a80579ff",
   "outputs": [
    {
     "data": {
      "text/plain": [
       "       pclass     survived                                  name  \\\n",
       "          min max      min max                               min   \n",
       "sex                                                                \n",
       "female      1   3        0   1  Abbott, Mrs. Stanton (Rosa Hunt)   \n",
       "male        1   3        0   1               Abbing, Mr. Anthony   \n",
       "\n",
       "                                                          age       sibsp      \\\n",
       "                                                  max     min   max   min max   \n",
       "sex                                                                             \n",
       "female  del Carlo, Mrs. Sebastiano (Argenia Genovesi)  0.1667  76.0     0   8   \n",
       "male                      van Melkebeke, Mr. Philemon  0.3333  80.0     0   8   \n",
       "\n",
       "        ... cabin     embarked     boat     body     home.dest  \\\n",
       "        ...   min max      min max  min max  min max       min   \n",
       "sex     ...                                                      \n",
       "female  ...     ?  G6        ?   S    1   D  206   ?         ?   \n",
       "male    ...     ?   T        C   S    1   D    1   ?         ?   \n",
       "\n",
       "                             \n",
       "                        max  \n",
       "sex                          \n",
       "female  Zurich, Switzerland  \n",
       "male    Zurich, Switzerland  \n",
       "\n",
       "[2 rows x 26 columns]"
      ],
      "text/html": [
       "<div>\n",
       "<style scoped>\n",
       "    .dataframe tbody tr th:only-of-type {\n",
       "        vertical-align: middle;\n",
       "    }\n",
       "\n",
       "    .dataframe tbody tr th {\n",
       "        vertical-align: top;\n",
       "    }\n",
       "\n",
       "    .dataframe thead tr th {\n",
       "        text-align: left;\n",
       "    }\n",
       "\n",
       "    .dataframe thead tr:last-of-type th {\n",
       "        text-align: right;\n",
       "    }\n",
       "</style>\n",
       "<table border=\"1\" class=\"dataframe\">\n",
       "  <thead>\n",
       "    <tr>\n",
       "      <th></th>\n",
       "      <th colspan=\"2\" halign=\"left\">pclass</th>\n",
       "      <th colspan=\"2\" halign=\"left\">survived</th>\n",
       "      <th colspan=\"2\" halign=\"left\">name</th>\n",
       "      <th colspan=\"2\" halign=\"left\">age</th>\n",
       "      <th colspan=\"2\" halign=\"left\">sibsp</th>\n",
       "      <th>...</th>\n",
       "      <th colspan=\"2\" halign=\"left\">cabin</th>\n",
       "      <th colspan=\"2\" halign=\"left\">embarked</th>\n",
       "      <th colspan=\"2\" halign=\"left\">boat</th>\n",
       "      <th colspan=\"2\" halign=\"left\">body</th>\n",
       "      <th colspan=\"2\" halign=\"left\">home.dest</th>\n",
       "    </tr>\n",
       "    <tr>\n",
       "      <th></th>\n",
       "      <th>min</th>\n",
       "      <th>max</th>\n",
       "      <th>min</th>\n",
       "      <th>max</th>\n",
       "      <th>min</th>\n",
       "      <th>max</th>\n",
       "      <th>min</th>\n",
       "      <th>max</th>\n",
       "      <th>min</th>\n",
       "      <th>max</th>\n",
       "      <th>...</th>\n",
       "      <th>min</th>\n",
       "      <th>max</th>\n",
       "      <th>min</th>\n",
       "      <th>max</th>\n",
       "      <th>min</th>\n",
       "      <th>max</th>\n",
       "      <th>min</th>\n",
       "      <th>max</th>\n",
       "      <th>min</th>\n",
       "      <th>max</th>\n",
       "    </tr>\n",
       "    <tr>\n",
       "      <th>sex</th>\n",
       "      <th></th>\n",
       "      <th></th>\n",
       "      <th></th>\n",
       "      <th></th>\n",
       "      <th></th>\n",
       "      <th></th>\n",
       "      <th></th>\n",
       "      <th></th>\n",
       "      <th></th>\n",
       "      <th></th>\n",
       "      <th></th>\n",
       "      <th></th>\n",
       "      <th></th>\n",
       "      <th></th>\n",
       "      <th></th>\n",
       "      <th></th>\n",
       "      <th></th>\n",
       "      <th></th>\n",
       "      <th></th>\n",
       "      <th></th>\n",
       "      <th></th>\n",
       "    </tr>\n",
       "  </thead>\n",
       "  <tbody>\n",
       "    <tr>\n",
       "      <th>female</th>\n",
       "      <td>1</td>\n",
       "      <td>3</td>\n",
       "      <td>0</td>\n",
       "      <td>1</td>\n",
       "      <td>Abbott, Mrs. Stanton (Rosa Hunt)</td>\n",
       "      <td>del Carlo, Mrs. Sebastiano (Argenia Genovesi)</td>\n",
       "      <td>0.1667</td>\n",
       "      <td>76.0</td>\n",
       "      <td>0</td>\n",
       "      <td>8</td>\n",
       "      <td>...</td>\n",
       "      <td>?</td>\n",
       "      <td>G6</td>\n",
       "      <td>?</td>\n",
       "      <td>S</td>\n",
       "      <td>1</td>\n",
       "      <td>D</td>\n",
       "      <td>206</td>\n",
       "      <td>?</td>\n",
       "      <td>?</td>\n",
       "      <td>Zurich, Switzerland</td>\n",
       "    </tr>\n",
       "    <tr>\n",
       "      <th>male</th>\n",
       "      <td>1</td>\n",
       "      <td>3</td>\n",
       "      <td>0</td>\n",
       "      <td>1</td>\n",
       "      <td>Abbing, Mr. Anthony</td>\n",
       "      <td>van Melkebeke, Mr. Philemon</td>\n",
       "      <td>0.3333</td>\n",
       "      <td>80.0</td>\n",
       "      <td>0</td>\n",
       "      <td>8</td>\n",
       "      <td>...</td>\n",
       "      <td>?</td>\n",
       "      <td>T</td>\n",
       "      <td>C</td>\n",
       "      <td>S</td>\n",
       "      <td>1</td>\n",
       "      <td>D</td>\n",
       "      <td>1</td>\n",
       "      <td>?</td>\n",
       "      <td>?</td>\n",
       "      <td>Zurich, Switzerland</td>\n",
       "    </tr>\n",
       "  </tbody>\n",
       "</table>\n",
       "<p>2 rows × 26 columns</p>\n",
       "</div>"
      ]
     },
     "execution_count": 88,
     "metadata": {},
     "output_type": "execute_result"
    }
   ],
   "execution_count": 88
  },
  {
   "metadata": {
    "ExecuteTime": {
     "end_time": "2025-01-26T14:42:40.880624Z",
     "start_time": "2025-01-26T14:42:40.870958Z"
    }
   },
   "cell_type": "code",
   "source": "titanic.groupby('sex').agg({'age':['min', 'max']})",
   "id": "cf6f0cda78dca697",
   "outputs": [
    {
     "data": {
      "text/plain": [
       "           age      \n",
       "           min   max\n",
       "sex                 \n",
       "female  0.1667  76.0\n",
       "male    0.3333  80.0"
      ],
      "text/html": [
       "<div>\n",
       "<style scoped>\n",
       "    .dataframe tbody tr th:only-of-type {\n",
       "        vertical-align: middle;\n",
       "    }\n",
       "\n",
       "    .dataframe tbody tr th {\n",
       "        vertical-align: top;\n",
       "    }\n",
       "\n",
       "    .dataframe thead tr th {\n",
       "        text-align: left;\n",
       "    }\n",
       "\n",
       "    .dataframe thead tr:last-of-type th {\n",
       "        text-align: right;\n",
       "    }\n",
       "</style>\n",
       "<table border=\"1\" class=\"dataframe\">\n",
       "  <thead>\n",
       "    <tr>\n",
       "      <th></th>\n",
       "      <th colspan=\"2\" halign=\"left\">age</th>\n",
       "    </tr>\n",
       "    <tr>\n",
       "      <th></th>\n",
       "      <th>min</th>\n",
       "      <th>max</th>\n",
       "    </tr>\n",
       "    <tr>\n",
       "      <th>sex</th>\n",
       "      <th></th>\n",
       "      <th></th>\n",
       "    </tr>\n",
       "  </thead>\n",
       "  <tbody>\n",
       "    <tr>\n",
       "      <th>female</th>\n",
       "      <td>0.1667</td>\n",
       "      <td>76.0</td>\n",
       "    </tr>\n",
       "    <tr>\n",
       "      <th>male</th>\n",
       "      <td>0.3333</td>\n",
       "      <td>80.0</td>\n",
       "    </tr>\n",
       "  </tbody>\n",
       "</table>\n",
       "</div>"
      ]
     },
     "execution_count": 89,
     "metadata": {},
     "output_type": "execute_result"
    }
   ],
   "execution_count": 89
  },
  {
   "metadata": {
    "ExecuteTime": {
     "end_time": "2025-01-26T14:43:22.011708Z",
     "start_time": "2025-01-26T14:43:22.003147Z"
    }
   },
   "cell_type": "code",
   "source": "titanic.groupby('sex').agg({'age':['min', 'max'],'pclass':'mean'})",
   "id": "661336246280ea73",
   "outputs": [
    {
     "data": {
      "text/plain": [
       "           age          pclass\n",
       "           min   max      mean\n",
       "sex                           \n",
       "female  0.1667  76.0  2.154506\n",
       "male    0.3333  80.0  2.372479"
      ],
      "text/html": [
       "<div>\n",
       "<style scoped>\n",
       "    .dataframe tbody tr th:only-of-type {\n",
       "        vertical-align: middle;\n",
       "    }\n",
       "\n",
       "    .dataframe tbody tr th {\n",
       "        vertical-align: top;\n",
       "    }\n",
       "\n",
       "    .dataframe thead tr th {\n",
       "        text-align: left;\n",
       "    }\n",
       "\n",
       "    .dataframe thead tr:last-of-type th {\n",
       "        text-align: right;\n",
       "    }\n",
       "</style>\n",
       "<table border=\"1\" class=\"dataframe\">\n",
       "  <thead>\n",
       "    <tr>\n",
       "      <th></th>\n",
       "      <th colspan=\"2\" halign=\"left\">age</th>\n",
       "      <th>pclass</th>\n",
       "    </tr>\n",
       "    <tr>\n",
       "      <th></th>\n",
       "      <th>min</th>\n",
       "      <th>max</th>\n",
       "      <th>mean</th>\n",
       "    </tr>\n",
       "    <tr>\n",
       "      <th>sex</th>\n",
       "      <th></th>\n",
       "      <th></th>\n",
       "      <th></th>\n",
       "    </tr>\n",
       "  </thead>\n",
       "  <tbody>\n",
       "    <tr>\n",
       "      <th>female</th>\n",
       "      <td>0.1667</td>\n",
       "      <td>76.0</td>\n",
       "      <td>2.154506</td>\n",
       "    </tr>\n",
       "    <tr>\n",
       "      <th>male</th>\n",
       "      <td>0.3333</td>\n",
       "      <td>80.0</td>\n",
       "      <td>2.372479</td>\n",
       "    </tr>\n",
       "  </tbody>\n",
       "</table>\n",
       "</div>"
      ]
     },
     "execution_count": 92,
     "metadata": {},
     "output_type": "execute_result"
    }
   ],
   "execution_count": 92
  },
  {
   "metadata": {
    "ExecuteTime": {
     "end_time": "2025-01-26T14:44:48.285914Z",
     "start_time": "2025-01-26T14:44:48.279493Z"
    }
   },
   "cell_type": "code",
   "source": "carstocks.groupby('Symbol').agg({'Open':'mean', 'Close':'mean'})",
   "id": "d3ebbb8583dd6e67",
   "outputs": [
    {
     "data": {
      "text/plain": [
       "              Open       Close\n",
       "Symbol                        \n",
       "GM       61.937693   62.164615\n",
       "LCID     48.761538   49.829231\n",
       "RIVN    127.710000  127.523077"
      ],
      "text/html": [
       "<div>\n",
       "<style scoped>\n",
       "    .dataframe tbody tr th:only-of-type {\n",
       "        vertical-align: middle;\n",
       "    }\n",
       "\n",
       "    .dataframe tbody tr th {\n",
       "        vertical-align: top;\n",
       "    }\n",
       "\n",
       "    .dataframe thead th {\n",
       "        text-align: right;\n",
       "    }\n",
       "</style>\n",
       "<table border=\"1\" class=\"dataframe\">\n",
       "  <thead>\n",
       "    <tr style=\"text-align: right;\">\n",
       "      <th></th>\n",
       "      <th>Open</th>\n",
       "      <th>Close</th>\n",
       "    </tr>\n",
       "    <tr>\n",
       "      <th>Symbol</th>\n",
       "      <th></th>\n",
       "      <th></th>\n",
       "    </tr>\n",
       "  </thead>\n",
       "  <tbody>\n",
       "    <tr>\n",
       "      <th>GM</th>\n",
       "      <td>61.937693</td>\n",
       "      <td>62.164615</td>\n",
       "    </tr>\n",
       "    <tr>\n",
       "      <th>LCID</th>\n",
       "      <td>48.761538</td>\n",
       "      <td>49.829231</td>\n",
       "    </tr>\n",
       "    <tr>\n",
       "      <th>RIVN</th>\n",
       "      <td>127.710000</td>\n",
       "      <td>127.523077</td>\n",
       "    </tr>\n",
       "  </tbody>\n",
       "</table>\n",
       "</div>"
      ]
     },
     "execution_count": 93,
     "metadata": {},
     "output_type": "execute_result"
    }
   ],
   "execution_count": 93
  },
  {
   "metadata": {
    "ExecuteTime": {
     "end_time": "2025-01-26T14:45:20.753419Z",
     "start_time": "2025-01-26T14:45:20.743464Z"
    }
   },
   "cell_type": "code",
   "source": "carstocks.groupby('Symbol').agg({'Open':'mean', 'Close':'mean', 'Volume':['mean', 'sum']})",
   "id": "1a723b5a45795fb1",
   "outputs": [
    {
     "data": {
      "text/plain": [
       "              Open       Close        Volume            \n",
       "              mean        mean          mean         sum\n",
       "Symbol                                                  \n",
       "GM       61.937693   62.164615  2.025259e+07   263283700\n",
       "LCID     48.761538   49.829231  1.081098e+08  1405427200\n",
       "RIVN    127.710000  127.523077  5.252395e+07   682811400"
      ],
      "text/html": [
       "<div>\n",
       "<style scoped>\n",
       "    .dataframe tbody tr th:only-of-type {\n",
       "        vertical-align: middle;\n",
       "    }\n",
       "\n",
       "    .dataframe tbody tr th {\n",
       "        vertical-align: top;\n",
       "    }\n",
       "\n",
       "    .dataframe thead tr th {\n",
       "        text-align: left;\n",
       "    }\n",
       "\n",
       "    .dataframe thead tr:last-of-type th {\n",
       "        text-align: right;\n",
       "    }\n",
       "</style>\n",
       "<table border=\"1\" class=\"dataframe\">\n",
       "  <thead>\n",
       "    <tr>\n",
       "      <th></th>\n",
       "      <th>Open</th>\n",
       "      <th>Close</th>\n",
       "      <th colspan=\"2\" halign=\"left\">Volume</th>\n",
       "    </tr>\n",
       "    <tr>\n",
       "      <th></th>\n",
       "      <th>mean</th>\n",
       "      <th>mean</th>\n",
       "      <th>mean</th>\n",
       "      <th>sum</th>\n",
       "    </tr>\n",
       "    <tr>\n",
       "      <th>Symbol</th>\n",
       "      <th></th>\n",
       "      <th></th>\n",
       "      <th></th>\n",
       "      <th></th>\n",
       "    </tr>\n",
       "  </thead>\n",
       "  <tbody>\n",
       "    <tr>\n",
       "      <th>GM</th>\n",
       "      <td>61.937693</td>\n",
       "      <td>62.164615</td>\n",
       "      <td>2.025259e+07</td>\n",
       "      <td>263283700</td>\n",
       "    </tr>\n",
       "    <tr>\n",
       "      <th>LCID</th>\n",
       "      <td>48.761538</td>\n",
       "      <td>49.829231</td>\n",
       "      <td>1.081098e+08</td>\n",
       "      <td>1405427200</td>\n",
       "    </tr>\n",
       "    <tr>\n",
       "      <th>RIVN</th>\n",
       "      <td>127.710000</td>\n",
       "      <td>127.523077</td>\n",
       "      <td>5.252395e+07</td>\n",
       "      <td>682811400</td>\n",
       "    </tr>\n",
       "  </tbody>\n",
       "</table>\n",
       "</div>"
      ]
     },
     "execution_count": 94,
     "metadata": {},
     "output_type": "execute_result"
    }
   ],
   "execution_count": 94
  },
  {
   "metadata": {},
   "cell_type": "markdown",
   "source": "### Aggregating with custom functions",
   "id": "e2d787a360aef29e"
  },
  {
   "metadata": {
    "ExecuteTime": {
     "end_time": "2025-01-26T14:58:32.768390Z",
     "start_time": "2025-01-26T14:58:32.761518Z"
    }
   },
   "cell_type": "code",
   "source": "titanic.groupby('pclass')['age'].agg(['min','max'])",
   "id": "ff98902f03fe51a",
   "outputs": [
    {
     "data": {
      "text/plain": [
       "           min   max\n",
       "pclass              \n",
       "1       0.9167  80.0\n",
       "2       0.6667  70.0\n",
       "3       0.1667  74.0"
      ],
      "text/html": [
       "<div>\n",
       "<style scoped>\n",
       "    .dataframe tbody tr th:only-of-type {\n",
       "        vertical-align: middle;\n",
       "    }\n",
       "\n",
       "    .dataframe tbody tr th {\n",
       "        vertical-align: top;\n",
       "    }\n",
       "\n",
       "    .dataframe thead th {\n",
       "        text-align: right;\n",
       "    }\n",
       "</style>\n",
       "<table border=\"1\" class=\"dataframe\">\n",
       "  <thead>\n",
       "    <tr style=\"text-align: right;\">\n",
       "      <th></th>\n",
       "      <th>min</th>\n",
       "      <th>max</th>\n",
       "    </tr>\n",
       "    <tr>\n",
       "      <th>pclass</th>\n",
       "      <th></th>\n",
       "      <th></th>\n",
       "    </tr>\n",
       "  </thead>\n",
       "  <tbody>\n",
       "    <tr>\n",
       "      <th>1</th>\n",
       "      <td>0.9167</td>\n",
       "      <td>80.0</td>\n",
       "    </tr>\n",
       "    <tr>\n",
       "      <th>2</th>\n",
       "      <td>0.6667</td>\n",
       "      <td>70.0</td>\n",
       "    </tr>\n",
       "    <tr>\n",
       "      <th>3</th>\n",
       "      <td>0.1667</td>\n",
       "      <td>74.0</td>\n",
       "    </tr>\n",
       "  </tbody>\n",
       "</table>\n",
       "</div>"
      ]
     },
     "execution_count": 99,
     "metadata": {},
     "output_type": "execute_result"
    }
   ],
   "execution_count": 99
  },
  {
   "metadata": {
    "ExecuteTime": {
     "end_time": "2025-01-26T15:30:15.182365Z",
     "start_time": "2025-01-26T15:30:15.176056Z"
    }
   },
   "cell_type": "code",
   "source": [
    "def titanic_range(s):\n",
    "    return s.max() - s.min()\n",
    "\n",
    "titanic.groupby('pclass')['age'].agg(titanic_range)"
   ],
   "id": "8ff4a51c458a3221",
   "outputs": [
    {
     "data": {
      "text/plain": [
       "pclass\n",
       "1    79.0833\n",
       "2    69.3333\n",
       "3    73.8333\n",
       "Name: age, dtype: float64"
      ]
     },
     "execution_count": 149,
     "metadata": {},
     "output_type": "execute_result"
    }
   ],
   "execution_count": 149
  },
  {
   "metadata": {
    "ExecuteTime": {
     "end_time": "2025-01-26T15:31:25.578145Z",
     "start_time": "2025-01-26T15:31:25.570654Z"
    }
   },
   "cell_type": "code",
   "source": "titanic.groupby('pclass')['age'].agg(['min','max', titanic_range])",
   "id": "a68299259c53e70d",
   "outputs": [
    {
     "data": {
      "text/plain": [
       "           min   max  titanic_range\n",
       "pclass                             \n",
       "1       0.9167  80.0        79.0833\n",
       "2       0.6667  70.0        69.3333\n",
       "3       0.1667  74.0        73.8333"
      ],
      "text/html": [
       "<div>\n",
       "<style scoped>\n",
       "    .dataframe tbody tr th:only-of-type {\n",
       "        vertical-align: middle;\n",
       "    }\n",
       "\n",
       "    .dataframe tbody tr th {\n",
       "        vertical-align: top;\n",
       "    }\n",
       "\n",
       "    .dataframe thead th {\n",
       "        text-align: right;\n",
       "    }\n",
       "</style>\n",
       "<table border=\"1\" class=\"dataframe\">\n",
       "  <thead>\n",
       "    <tr style=\"text-align: right;\">\n",
       "      <th></th>\n",
       "      <th>min</th>\n",
       "      <th>max</th>\n",
       "      <th>titanic_range</th>\n",
       "    </tr>\n",
       "    <tr>\n",
       "      <th>pclass</th>\n",
       "      <th></th>\n",
       "      <th></th>\n",
       "      <th></th>\n",
       "    </tr>\n",
       "  </thead>\n",
       "  <tbody>\n",
       "    <tr>\n",
       "      <th>1</th>\n",
       "      <td>0.9167</td>\n",
       "      <td>80.0</td>\n",
       "      <td>79.0833</td>\n",
       "    </tr>\n",
       "    <tr>\n",
       "      <th>2</th>\n",
       "      <td>0.6667</td>\n",
       "      <td>70.0</td>\n",
       "      <td>69.3333</td>\n",
       "    </tr>\n",
       "    <tr>\n",
       "      <th>3</th>\n",
       "      <td>0.1667</td>\n",
       "      <td>74.0</td>\n",
       "      <td>73.8333</td>\n",
       "    </tr>\n",
       "  </tbody>\n",
       "</table>\n",
       "</div>"
      ]
     },
     "execution_count": 152,
     "metadata": {},
     "output_type": "execute_result"
    }
   ],
   "execution_count": 152
  },
  {
   "metadata": {
    "ExecuteTime": {
     "end_time": "2025-01-26T15:01:46.748853Z",
     "start_time": "2025-01-26T15:01:46.744641Z"
    }
   },
   "cell_type": "code",
   "source": "titanic['age'].count()",
   "id": "1320c161cc4c3484",
   "outputs": [
    {
     "data": {
      "text/plain": [
       "np.int64(1046)"
      ]
     },
     "execution_count": 102,
     "metadata": {},
     "output_type": "execute_result"
    }
   ],
   "execution_count": 102
  },
  {
   "metadata": {
    "ExecuteTime": {
     "end_time": "2025-01-26T15:02:07.488827Z",
     "start_time": "2025-01-26T15:02:07.485127Z"
    }
   },
   "cell_type": "code",
   "source": "titanic['age'].size",
   "id": "4efb4c6f928321de",
   "outputs": [
    {
     "data": {
      "text/plain": [
       "1309"
      ]
     },
     "execution_count": 104,
     "metadata": {},
     "output_type": "execute_result"
    }
   ],
   "execution_count": 104
  },
  {
   "metadata": {
    "ExecuteTime": {
     "end_time": "2025-01-26T15:02:38.644337Z",
     "start_time": "2025-01-26T15:02:38.640280Z"
    }
   },
   "cell_type": "code",
   "source": "titanic['age'].size - titanic['age'].count()",
   "id": "4ffea46ee429d46c",
   "outputs": [
    {
     "data": {
      "text/plain": [
       "np.int64(263)"
      ]
     },
     "execution_count": 105,
     "metadata": {},
     "output_type": "execute_result"
    }
   ],
   "execution_count": 105
  },
  {
   "metadata": {
    "ExecuteTime": {
     "end_time": "2025-01-26T15:02:53.685783Z",
     "start_time": "2025-01-26T15:02:53.680899Z"
    }
   },
   "cell_type": "code",
   "source": [
    "def count_nulls(s):\n",
    "    return s.size - s.count()\n",
    "\n",
    "titanic.groupby('pclass')['age'].agg(count_nulls)"
   ],
   "id": "879f4e12c74d1555",
   "outputs": [
    {
     "data": {
      "text/plain": [
       "pclass\n",
       "1     39\n",
       "2     16\n",
       "3    208\n",
       "Name: age, dtype: int64"
      ]
     },
     "execution_count": 106,
     "metadata": {},
     "output_type": "execute_result"
    }
   ],
   "execution_count": 106
  },
  {
   "metadata": {},
   "cell_type": "markdown",
   "source": "### Named Aggregation",
   "id": "d5331ed0bde1ab60"
  },
  {
   "metadata": {
    "ExecuteTime": {
     "end_time": "2025-01-26T15:06:05.138079Z",
     "start_time": "2025-01-26T15:06:05.129222Z"
    }
   },
   "cell_type": "code",
   "source": "carstocks.groupby('Symbol').agg({'Open': ['min', 'max'], 'Close': ['min', 'max']})",
   "id": "9b32cbaa961be477",
   "outputs": [
    {
     "data": {
      "text/plain": [
       "              Open                   Close            \n",
       "               min         max         min         max\n",
       "Symbol                                                \n",
       "GM       57.849998   64.330002   59.270000   64.610001\n",
       "LCID     42.299999   56.200001   40.750000   55.520000\n",
       "RIVN    106.750000  163.800003  100.730003  172.009995"
      ],
      "text/html": [
       "<div>\n",
       "<style scoped>\n",
       "    .dataframe tbody tr th:only-of-type {\n",
       "        vertical-align: middle;\n",
       "    }\n",
       "\n",
       "    .dataframe tbody tr th {\n",
       "        vertical-align: top;\n",
       "    }\n",
       "\n",
       "    .dataframe thead tr th {\n",
       "        text-align: left;\n",
       "    }\n",
       "\n",
       "    .dataframe thead tr:last-of-type th {\n",
       "        text-align: right;\n",
       "    }\n",
       "</style>\n",
       "<table border=\"1\" class=\"dataframe\">\n",
       "  <thead>\n",
       "    <tr>\n",
       "      <th></th>\n",
       "      <th colspan=\"2\" halign=\"left\">Open</th>\n",
       "      <th colspan=\"2\" halign=\"left\">Close</th>\n",
       "    </tr>\n",
       "    <tr>\n",
       "      <th></th>\n",
       "      <th>min</th>\n",
       "      <th>max</th>\n",
       "      <th>min</th>\n",
       "      <th>max</th>\n",
       "    </tr>\n",
       "    <tr>\n",
       "      <th>Symbol</th>\n",
       "      <th></th>\n",
       "      <th></th>\n",
       "      <th></th>\n",
       "      <th></th>\n",
       "    </tr>\n",
       "  </thead>\n",
       "  <tbody>\n",
       "    <tr>\n",
       "      <th>GM</th>\n",
       "      <td>57.849998</td>\n",
       "      <td>64.330002</td>\n",
       "      <td>59.270000</td>\n",
       "      <td>64.610001</td>\n",
       "    </tr>\n",
       "    <tr>\n",
       "      <th>LCID</th>\n",
       "      <td>42.299999</td>\n",
       "      <td>56.200001</td>\n",
       "      <td>40.750000</td>\n",
       "      <td>55.520000</td>\n",
       "    </tr>\n",
       "    <tr>\n",
       "      <th>RIVN</th>\n",
       "      <td>106.750000</td>\n",
       "      <td>163.800003</td>\n",
       "      <td>100.730003</td>\n",
       "      <td>172.009995</td>\n",
       "    </tr>\n",
       "  </tbody>\n",
       "</table>\n",
       "</div>"
      ]
     },
     "execution_count": 107,
     "metadata": {},
     "output_type": "execute_result"
    }
   ],
   "execution_count": 107
  },
  {
   "metadata": {
    "ExecuteTime": {
     "end_time": "2025-01-26T15:07:36.352596Z",
     "start_time": "2025-01-26T15:07:36.344029Z"
    }
   },
   "cell_type": "code",
   "source": [
    "carstocks.groupby('Symbol').agg(\n",
    "    min_open = ('Open', 'min'),\n",
    "    max_open = ('Open', 'max')\n",
    ")"
   ],
   "id": "77641ff7bda3afa7",
   "outputs": [
    {
     "data": {
      "text/plain": [
       "          min_open    max_open\n",
       "Symbol                        \n",
       "GM       57.849998   64.330002\n",
       "LCID     42.299999   56.200001\n",
       "RIVN    106.750000  163.800003"
      ],
      "text/html": [
       "<div>\n",
       "<style scoped>\n",
       "    .dataframe tbody tr th:only-of-type {\n",
       "        vertical-align: middle;\n",
       "    }\n",
       "\n",
       "    .dataframe tbody tr th {\n",
       "        vertical-align: top;\n",
       "    }\n",
       "\n",
       "    .dataframe thead th {\n",
       "        text-align: right;\n",
       "    }\n",
       "</style>\n",
       "<table border=\"1\" class=\"dataframe\">\n",
       "  <thead>\n",
       "    <tr style=\"text-align: right;\">\n",
       "      <th></th>\n",
       "      <th>min_open</th>\n",
       "      <th>max_open</th>\n",
       "    </tr>\n",
       "    <tr>\n",
       "      <th>Symbol</th>\n",
       "      <th></th>\n",
       "      <th></th>\n",
       "    </tr>\n",
       "  </thead>\n",
       "  <tbody>\n",
       "    <tr>\n",
       "      <th>GM</th>\n",
       "      <td>57.849998</td>\n",
       "      <td>64.330002</td>\n",
       "    </tr>\n",
       "    <tr>\n",
       "      <th>LCID</th>\n",
       "      <td>42.299999</td>\n",
       "      <td>56.200001</td>\n",
       "    </tr>\n",
       "    <tr>\n",
       "      <th>RIVN</th>\n",
       "      <td>106.750000</td>\n",
       "      <td>163.800003</td>\n",
       "    </tr>\n",
       "  </tbody>\n",
       "</table>\n",
       "</div>"
      ]
     },
     "execution_count": 109,
     "metadata": {},
     "output_type": "execute_result"
    }
   ],
   "execution_count": 109
  },
  {
   "metadata": {
    "ExecuteTime": {
     "end_time": "2025-01-26T15:07:37.386018Z",
     "start_time": "2025-01-26T15:07:37.377078Z"
    }
   },
   "cell_type": "code",
   "source": [
    "carstocks.groupby('Symbol').agg(\n",
    "    min_open = ('Open', 'min'),\n",
    "    max_open = ('Open', 'max'),\n",
    "    min_close = ('Close', 'min'),\n",
    "    max_close = ('Close', 'max')\n",
    ")"
   ],
   "id": "f0cf279cf947c60",
   "outputs": [
    {
     "data": {
      "text/plain": [
       "          min_open    max_open   min_close   max_close\n",
       "Symbol                                                \n",
       "GM       57.849998   64.330002   59.270000   64.610001\n",
       "LCID     42.299999   56.200001   40.750000   55.520000\n",
       "RIVN    106.750000  163.800003  100.730003  172.009995"
      ],
      "text/html": [
       "<div>\n",
       "<style scoped>\n",
       "    .dataframe tbody tr th:only-of-type {\n",
       "        vertical-align: middle;\n",
       "    }\n",
       "\n",
       "    .dataframe tbody tr th {\n",
       "        vertical-align: top;\n",
       "    }\n",
       "\n",
       "    .dataframe thead th {\n",
       "        text-align: right;\n",
       "    }\n",
       "</style>\n",
       "<table border=\"1\" class=\"dataframe\">\n",
       "  <thead>\n",
       "    <tr style=\"text-align: right;\">\n",
       "      <th></th>\n",
       "      <th>min_open</th>\n",
       "      <th>max_open</th>\n",
       "      <th>min_close</th>\n",
       "      <th>max_close</th>\n",
       "    </tr>\n",
       "    <tr>\n",
       "      <th>Symbol</th>\n",
       "      <th></th>\n",
       "      <th></th>\n",
       "      <th></th>\n",
       "      <th></th>\n",
       "    </tr>\n",
       "  </thead>\n",
       "  <tbody>\n",
       "    <tr>\n",
       "      <th>GM</th>\n",
       "      <td>57.849998</td>\n",
       "      <td>64.330002</td>\n",
       "      <td>59.270000</td>\n",
       "      <td>64.610001</td>\n",
       "    </tr>\n",
       "    <tr>\n",
       "      <th>LCID</th>\n",
       "      <td>42.299999</td>\n",
       "      <td>56.200001</td>\n",
       "      <td>40.750000</td>\n",
       "      <td>55.520000</td>\n",
       "    </tr>\n",
       "    <tr>\n",
       "      <th>RIVN</th>\n",
       "      <td>106.750000</td>\n",
       "      <td>163.800003</td>\n",
       "      <td>100.730003</td>\n",
       "      <td>172.009995</td>\n",
       "    </tr>\n",
       "  </tbody>\n",
       "</table>\n",
       "</div>"
      ]
     },
     "execution_count": 110,
     "metadata": {},
     "output_type": "execute_result"
    }
   ],
   "execution_count": 110
  },
  {
   "metadata": {},
   "cell_type": "markdown",
   "source": "### Exercise",
   "id": "9ece0079a909c64"
  },
  {
   "metadata": {
    "ExecuteTime": {
     "end_time": "2025-01-26T15:09:35.456855Z",
     "start_time": "2025-01-26T15:09:35.441579Z"
    }
   },
   "cell_type": "code",
   "source": "liga = pd.read_csv('./data/Laliga.csv')",
   "id": "953e14ae6d42e94c",
   "outputs": [],
   "execution_count": 111
  },
  {
   "metadata": {
    "ExecuteTime": {
     "end_time": "2025-01-26T15:09:55.589895Z",
     "start_time": "2025-01-26T15:09:55.577583Z"
    }
   },
   "cell_type": "code",
   "source": "liga",
   "id": "f871fae52a81a4ed",
   "outputs": [
    {
     "data": {
      "text/plain": [
       "              Team    Position  Shirt number          Name  Minutes played  \\\n",
       "0    Athletic Club  Goalkeeper           NaN  Hodei Oleaga           0.000   \n",
       "1    Athletic Club  Goalkeeper           1.0     A. Remiro           0.000   \n",
       "2    Athletic Club  Goalkeeper          13.0      Herrerín           2.790   \n",
       "3    Athletic Club  Goalkeeper          25.0    Unai Simón         630.000   \n",
       "4    Athletic Club    Defender           3.0         Núñez           1.063   \n",
       "..             ...         ...           ...           ...             ...   \n",
       "551  Villarreal CF  Midfielder          37.0   Iván Martín           0.000   \n",
       "552  Villarreal CF  Midfielder          42.0  Andrei Ratiu           0.000   \n",
       "553  Villarreal CF     Forward           7.0        Gerard           2.317   \n",
       "554  Villarreal CF     Forward           9.0         Bacca           1.259   \n",
       "555  Villarreal CF     Forward          17.0   Toko Ekambi           2.148   \n",
       "\n",
       "     Games played Percentage of games played  Full games played  \\\n",
       "0               0                      0.00%                  0   \n",
       "1               0                      0.00%                  0   \n",
       "2              31                     82.00%                 31   \n",
       "3               7                     18.00%                  7   \n",
       "4              12                     32.00%                 11   \n",
       "..            ...                        ...                ...   \n",
       "551             0                      0.00%                  0   \n",
       "552             0                      0.00%                  0   \n",
       "553            35                     92.00%                 16   \n",
       "554            33                     87.00%                  2   \n",
       "555            34                     89.00%                 11   \n",
       "\n",
       "    Percentage of full games played  Games started  ... Corners  Tackles.1  \\\n",
       "0                             0.00%              0  ...       0          0   \n",
       "1                             0.00%              0  ...       0          0   \n",
       "2                            82.00%             31  ...       0          0   \n",
       "3                            18.00%              7  ...       0          0   \n",
       "4                            29.00%             11  ...       0         15   \n",
       "..                              ...            ...  ...     ...        ...   \n",
       "551                           0.00%              0  ...       0          0   \n",
       "552                           0.00%              0  ...       0          0   \n",
       "553                          42.00%             25  ...       0         23   \n",
       "554                           5.00%             12  ...       1          4   \n",
       "555                          29.00%             24  ...       0         11   \n",
       "\n",
       "    Duels  Man-to-man duels  Aerial duels  Passes  Short passes  Long passes  \\\n",
       "0       0                 0             0     0.0           0.0            0   \n",
       "1       0                 0             0     0.0           0.0            0   \n",
       "2      25                 6            19   887.0         128.0          759   \n",
       "3       3                 2             1   155.0          49.0          106   \n",
       "4     107                38            69   536.0         457.0           78   \n",
       "..    ...               ...           ...     ...           ...          ...   \n",
       "551     0                 0             0     0.0           0.0            0   \n",
       "552     0                 0             0     0.0           0.0            0   \n",
       "553   344               219           125   740.0         676.0           59   \n",
       "554   127                80            47   270.0         252.0           16   \n",
       "555   268               187            81   501.0         477.0           23   \n",
       "\n",
       "     Through balls  Goals scored per attempt  \n",
       "0                0                         0  \n",
       "1                0                         0  \n",
       "2                1                         0  \n",
       "3                0                         0  \n",
       "4                1                         0  \n",
       "..             ...                       ...  \n",
       "551              0                         0  \n",
       "552              0                         0  \n",
       "553              5                         6  \n",
       "554              2                         5  \n",
       "555              1                         5  \n",
       "\n",
       "[556 rows x 62 columns]"
      ],
      "text/html": [
       "<div>\n",
       "<style scoped>\n",
       "    .dataframe tbody tr th:only-of-type {\n",
       "        vertical-align: middle;\n",
       "    }\n",
       "\n",
       "    .dataframe tbody tr th {\n",
       "        vertical-align: top;\n",
       "    }\n",
       "\n",
       "    .dataframe thead th {\n",
       "        text-align: right;\n",
       "    }\n",
       "</style>\n",
       "<table border=\"1\" class=\"dataframe\">\n",
       "  <thead>\n",
       "    <tr style=\"text-align: right;\">\n",
       "      <th></th>\n",
       "      <th>Team</th>\n",
       "      <th>Position</th>\n",
       "      <th>Shirt number</th>\n",
       "      <th>Name</th>\n",
       "      <th>Minutes played</th>\n",
       "      <th>Games played</th>\n",
       "      <th>Percentage of games played</th>\n",
       "      <th>Full games played</th>\n",
       "      <th>Percentage of full games played</th>\n",
       "      <th>Games started</th>\n",
       "      <th>...</th>\n",
       "      <th>Corners</th>\n",
       "      <th>Tackles.1</th>\n",
       "      <th>Duels</th>\n",
       "      <th>Man-to-man duels</th>\n",
       "      <th>Aerial duels</th>\n",
       "      <th>Passes</th>\n",
       "      <th>Short passes</th>\n",
       "      <th>Long passes</th>\n",
       "      <th>Through balls</th>\n",
       "      <th>Goals scored per attempt</th>\n",
       "    </tr>\n",
       "  </thead>\n",
       "  <tbody>\n",
       "    <tr>\n",
       "      <th>0</th>\n",
       "      <td>Athletic Club</td>\n",
       "      <td>Goalkeeper</td>\n",
       "      <td>NaN</td>\n",
       "      <td>Hodei Oleaga</td>\n",
       "      <td>0.000</td>\n",
       "      <td>0</td>\n",
       "      <td>0.00%</td>\n",
       "      <td>0</td>\n",
       "      <td>0.00%</td>\n",
       "      <td>0</td>\n",
       "      <td>...</td>\n",
       "      <td>0</td>\n",
       "      <td>0</td>\n",
       "      <td>0</td>\n",
       "      <td>0</td>\n",
       "      <td>0</td>\n",
       "      <td>0.0</td>\n",
       "      <td>0.0</td>\n",
       "      <td>0</td>\n",
       "      <td>0</td>\n",
       "      <td>0</td>\n",
       "    </tr>\n",
       "    <tr>\n",
       "      <th>1</th>\n",
       "      <td>Athletic Club</td>\n",
       "      <td>Goalkeeper</td>\n",
       "      <td>1.0</td>\n",
       "      <td>A. Remiro</td>\n",
       "      <td>0.000</td>\n",
       "      <td>0</td>\n",
       "      <td>0.00%</td>\n",
       "      <td>0</td>\n",
       "      <td>0.00%</td>\n",
       "      <td>0</td>\n",
       "      <td>...</td>\n",
       "      <td>0</td>\n",
       "      <td>0</td>\n",
       "      <td>0</td>\n",
       "      <td>0</td>\n",
       "      <td>0</td>\n",
       "      <td>0.0</td>\n",
       "      <td>0.0</td>\n",
       "      <td>0</td>\n",
       "      <td>0</td>\n",
       "      <td>0</td>\n",
       "    </tr>\n",
       "    <tr>\n",
       "      <th>2</th>\n",
       "      <td>Athletic Club</td>\n",
       "      <td>Goalkeeper</td>\n",
       "      <td>13.0</td>\n",
       "      <td>Herrerín</td>\n",
       "      <td>2.790</td>\n",
       "      <td>31</td>\n",
       "      <td>82.00%</td>\n",
       "      <td>31</td>\n",
       "      <td>82.00%</td>\n",
       "      <td>31</td>\n",
       "      <td>...</td>\n",
       "      <td>0</td>\n",
       "      <td>0</td>\n",
       "      <td>25</td>\n",
       "      <td>6</td>\n",
       "      <td>19</td>\n",
       "      <td>887.0</td>\n",
       "      <td>128.0</td>\n",
       "      <td>759</td>\n",
       "      <td>1</td>\n",
       "      <td>0</td>\n",
       "    </tr>\n",
       "    <tr>\n",
       "      <th>3</th>\n",
       "      <td>Athletic Club</td>\n",
       "      <td>Goalkeeper</td>\n",
       "      <td>25.0</td>\n",
       "      <td>Unai Simón</td>\n",
       "      <td>630.000</td>\n",
       "      <td>7</td>\n",
       "      <td>18.00%</td>\n",
       "      <td>7</td>\n",
       "      <td>18.00%</td>\n",
       "      <td>7</td>\n",
       "      <td>...</td>\n",
       "      <td>0</td>\n",
       "      <td>0</td>\n",
       "      <td>3</td>\n",
       "      <td>2</td>\n",
       "      <td>1</td>\n",
       "      <td>155.0</td>\n",
       "      <td>49.0</td>\n",
       "      <td>106</td>\n",
       "      <td>0</td>\n",
       "      <td>0</td>\n",
       "    </tr>\n",
       "    <tr>\n",
       "      <th>4</th>\n",
       "      <td>Athletic Club</td>\n",
       "      <td>Defender</td>\n",
       "      <td>3.0</td>\n",
       "      <td>Núñez</td>\n",
       "      <td>1.063</td>\n",
       "      <td>12</td>\n",
       "      <td>32.00%</td>\n",
       "      <td>11</td>\n",
       "      <td>29.00%</td>\n",
       "      <td>11</td>\n",
       "      <td>...</td>\n",
       "      <td>0</td>\n",
       "      <td>15</td>\n",
       "      <td>107</td>\n",
       "      <td>38</td>\n",
       "      <td>69</td>\n",
       "      <td>536.0</td>\n",
       "      <td>457.0</td>\n",
       "      <td>78</td>\n",
       "      <td>1</td>\n",
       "      <td>0</td>\n",
       "    </tr>\n",
       "    <tr>\n",
       "      <th>...</th>\n",
       "      <td>...</td>\n",
       "      <td>...</td>\n",
       "      <td>...</td>\n",
       "      <td>...</td>\n",
       "      <td>...</td>\n",
       "      <td>...</td>\n",
       "      <td>...</td>\n",
       "      <td>...</td>\n",
       "      <td>...</td>\n",
       "      <td>...</td>\n",
       "      <td>...</td>\n",
       "      <td>...</td>\n",
       "      <td>...</td>\n",
       "      <td>...</td>\n",
       "      <td>...</td>\n",
       "      <td>...</td>\n",
       "      <td>...</td>\n",
       "      <td>...</td>\n",
       "      <td>...</td>\n",
       "      <td>...</td>\n",
       "      <td>...</td>\n",
       "    </tr>\n",
       "    <tr>\n",
       "      <th>551</th>\n",
       "      <td>Villarreal CF</td>\n",
       "      <td>Midfielder</td>\n",
       "      <td>37.0</td>\n",
       "      <td>Iván Martín</td>\n",
       "      <td>0.000</td>\n",
       "      <td>0</td>\n",
       "      <td>0.00%</td>\n",
       "      <td>0</td>\n",
       "      <td>0.00%</td>\n",
       "      <td>0</td>\n",
       "      <td>...</td>\n",
       "      <td>0</td>\n",
       "      <td>0</td>\n",
       "      <td>0</td>\n",
       "      <td>0</td>\n",
       "      <td>0</td>\n",
       "      <td>0.0</td>\n",
       "      <td>0.0</td>\n",
       "      <td>0</td>\n",
       "      <td>0</td>\n",
       "      <td>0</td>\n",
       "    </tr>\n",
       "    <tr>\n",
       "      <th>552</th>\n",
       "      <td>Villarreal CF</td>\n",
       "      <td>Midfielder</td>\n",
       "      <td>42.0</td>\n",
       "      <td>Andrei Ratiu</td>\n",
       "      <td>0.000</td>\n",
       "      <td>0</td>\n",
       "      <td>0.00%</td>\n",
       "      <td>0</td>\n",
       "      <td>0.00%</td>\n",
       "      <td>0</td>\n",
       "      <td>...</td>\n",
       "      <td>0</td>\n",
       "      <td>0</td>\n",
       "      <td>0</td>\n",
       "      <td>0</td>\n",
       "      <td>0</td>\n",
       "      <td>0.0</td>\n",
       "      <td>0.0</td>\n",
       "      <td>0</td>\n",
       "      <td>0</td>\n",
       "      <td>0</td>\n",
       "    </tr>\n",
       "    <tr>\n",
       "      <th>553</th>\n",
       "      <td>Villarreal CF</td>\n",
       "      <td>Forward</td>\n",
       "      <td>7.0</td>\n",
       "      <td>Gerard</td>\n",
       "      <td>2.317</td>\n",
       "      <td>35</td>\n",
       "      <td>92.00%</td>\n",
       "      <td>16</td>\n",
       "      <td>42.00%</td>\n",
       "      <td>25</td>\n",
       "      <td>...</td>\n",
       "      <td>0</td>\n",
       "      <td>23</td>\n",
       "      <td>344</td>\n",
       "      <td>219</td>\n",
       "      <td>125</td>\n",
       "      <td>740.0</td>\n",
       "      <td>676.0</td>\n",
       "      <td>59</td>\n",
       "      <td>5</td>\n",
       "      <td>6</td>\n",
       "    </tr>\n",
       "    <tr>\n",
       "      <th>554</th>\n",
       "      <td>Villarreal CF</td>\n",
       "      <td>Forward</td>\n",
       "      <td>9.0</td>\n",
       "      <td>Bacca</td>\n",
       "      <td>1.259</td>\n",
       "      <td>33</td>\n",
       "      <td>87.00%</td>\n",
       "      <td>2</td>\n",
       "      <td>5.00%</td>\n",
       "      <td>12</td>\n",
       "      <td>...</td>\n",
       "      <td>1</td>\n",
       "      <td>4</td>\n",
       "      <td>127</td>\n",
       "      <td>80</td>\n",
       "      <td>47</td>\n",
       "      <td>270.0</td>\n",
       "      <td>252.0</td>\n",
       "      <td>16</td>\n",
       "      <td>2</td>\n",
       "      <td>5</td>\n",
       "    </tr>\n",
       "    <tr>\n",
       "      <th>555</th>\n",
       "      <td>Villarreal CF</td>\n",
       "      <td>Forward</td>\n",
       "      <td>17.0</td>\n",
       "      <td>Toko Ekambi</td>\n",
       "      <td>2.148</td>\n",
       "      <td>34</td>\n",
       "      <td>89.00%</td>\n",
       "      <td>11</td>\n",
       "      <td>29.00%</td>\n",
       "      <td>24</td>\n",
       "      <td>...</td>\n",
       "      <td>0</td>\n",
       "      <td>11</td>\n",
       "      <td>268</td>\n",
       "      <td>187</td>\n",
       "      <td>81</td>\n",
       "      <td>501.0</td>\n",
       "      <td>477.0</td>\n",
       "      <td>23</td>\n",
       "      <td>1</td>\n",
       "      <td>5</td>\n",
       "    </tr>\n",
       "  </tbody>\n",
       "</table>\n",
       "<p>556 rows × 62 columns</p>\n",
       "</div>"
      ]
     },
     "execution_count": 112,
     "metadata": {},
     "output_type": "execute_result"
    }
   ],
   "execution_count": 112
  },
  {
   "metadata": {
    "ExecuteTime": {
     "end_time": "2025-01-26T15:12:37.233960Z",
     "start_time": "2025-01-26T15:12:37.226168Z"
    }
   },
   "cell_type": "code",
   "source": "liga.info()",
   "id": "7adfeb379c8ba34a",
   "outputs": [
    {
     "name": "stdout",
     "output_type": "stream",
     "text": [
      "<class 'pandas.core.frame.DataFrame'>\n",
      "RangeIndex: 556 entries, 0 to 555\n",
      "Data columns (total 62 columns):\n",
      " #   Column                                 Non-Null Count  Dtype  \n",
      "---  ------                                 --------------  -----  \n",
      " 0   Team                                   556 non-null    object \n",
      " 1   Position                               556 non-null    object \n",
      " 2   Shirt number                           526 non-null    float64\n",
      " 3   Name                                   556 non-null    object \n",
      " 4   Minutes played                         556 non-null    float64\n",
      " 5   Games played                           556 non-null    int64  \n",
      " 6   Percentage of games played             556 non-null    object \n",
      " 7   Full games played                      556 non-null    int64  \n",
      " 8   Percentage of full games played        556 non-null    object \n",
      " 9   Games started                          556 non-null    int64  \n",
      " 10  Percentage of games started            556 non-null    object \n",
      " 11  Games where substituted                556 non-null    int64  \n",
      " 12  Percentage of games where substituted  556 non-null    object \n",
      " 13  Yellow Cards                           556 non-null    int64  \n",
      " 14  Red Cards                              556 non-null    int64  \n",
      " 15  Second Yellows                         556 non-null    int64  \n",
      " 16  Goals scored                           556 non-null    int64  \n",
      " 17  Penalties scored                       556 non-null    int64  \n",
      " 18  Own goals                              556 non-null    int64  \n",
      " 19  Goals conceded while player on pitch   556 non-null    int64  \n",
      " 20  Tackles                                556 non-null    int64  \n",
      " 21  Interceptions                          556 non-null    int64  \n",
      " 22  Recoveries                             556 non-null    int64  \n",
      " 23  Clearances                             556 non-null    int64  \n",
      " 24  Successful tackles                     556 non-null    int64  \n",
      " 25  Unssuccessful tackles                  556 non-null    int64  \n",
      " 26  Last man                               556 non-null    int64  \n",
      " 27  Successful duels                       556 non-null    int64  \n",
      " 28  Duels lost                             556 non-null    int64  \n",
      " 29  Successful aerial challenges           556 non-null    int64  \n",
      " 30  Unsuccessful aerial challenges         556 non-null    int64  \n",
      " 31  Offsides                               556 non-null    int64  \n",
      " 32  Fouls suffered                         556 non-null    int64  \n",
      " 33  Fouls committed                        556 non-null    int64  \n",
      " 34  Penalties won                          556 non-null    int64  \n",
      " 35  Penalties given away                   556 non-null    int64  \n",
      " 36  Handballs committed                    556 non-null    int64  \n",
      " 37  Fouls committed per card               556 non-null    int64  \n",
      " 38  Shots                                  556 non-null    int64  \n",
      " 39  Shots on target                        556 non-null    int64  \n",
      " 40  Assists                                556 non-null    int64  \n",
      " 41  Successful dribbles                    556 non-null    int64  \n",
      " 42  Unsuccessful dribbles                  556 non-null    int64  \n",
      " 43  Goals scored.1                         556 non-null    int64  \n",
      " 44  From inside the area                   556 non-null    int64  \n",
      " 45  From outside the area                  556 non-null    int64  \n",
      " 46  Goals with left foot                   556 non-null    int64  \n",
      " 47  Goals with right foot                  556 non-null    int64  \n",
      " 48  Penalties scored.1                     556 non-null    int64  \n",
      " 49  Goals scored with header               556 non-null    int64  \n",
      " 50  Goals from set piece                   556 non-null    int64  \n",
      " 51  Crosses                                556 non-null    int64  \n",
      " 52  Corners                                556 non-null    int64  \n",
      " 53  Tackles.1                              556 non-null    int64  \n",
      " 54  Duels                                  556 non-null    int64  \n",
      " 55  Man-to-man duels                       556 non-null    int64  \n",
      " 56  Aerial duels                           556 non-null    int64  \n",
      " 57  Passes                                 556 non-null    float64\n",
      " 58  Short passes                           556 non-null    float64\n",
      " 59  Long passes                            556 non-null    int64  \n",
      " 60  Through balls                          556 non-null    int64  \n",
      " 61  Goals scored per attempt               556 non-null    int64  \n",
      "dtypes: float64(4), int64(51), object(7)\n",
      "memory usage: 269.4+ KB\n"
     ]
    }
   ],
   "execution_count": 117
  },
  {
   "metadata": {
    "ExecuteTime": {
     "end_time": "2025-01-26T15:22:17.647167Z",
     "start_time": "2025-01-26T15:22:17.642894Z"
    }
   },
   "cell_type": "code",
   "source": "liga.columns",
   "id": "3a5eed1f71d6fe62",
   "outputs": [
    {
     "data": {
      "text/plain": [
       "Index(['Team', 'Position', 'Shirt number', 'Name', 'Minutes played',\n",
       "       'Games played', 'Percentage of games played', 'Full games played',\n",
       "       'Percentage of full games played', 'Games started',\n",
       "       'Percentage of games started', 'Games where substituted',\n",
       "       'Percentage of games where substituted', 'Yellow Cards', 'Red Cards',\n",
       "       'Second Yellows', 'Goals scored', 'Penalties scored', 'Own goals',\n",
       "       'Goals conceded while player on pitch', 'Tackles', 'Interceptions',\n",
       "       'Recoveries', 'Clearances', 'Successful tackles',\n",
       "       'Unssuccessful tackles', 'Last man', 'Successful duels', 'Duels lost',\n",
       "       'Successful aerial challenges', 'Unsuccessful aerial challenges',\n",
       "       'Offsides', 'Fouls suffered', 'Fouls committed', 'Penalties won',\n",
       "       'Penalties given away', 'Handballs committed',\n",
       "       'Fouls committed per card', 'Shots', 'Shots on target', 'Assists',\n",
       "       'Successful dribbles', 'Unsuccessful dribbles', 'Goals scored.1',\n",
       "       'From inside the area', 'From outside the area', 'Goals with left foot',\n",
       "       'Goals with right foot', 'Penalties scored.1',\n",
       "       'Goals scored with header', 'Goals from set piece', 'Crosses',\n",
       "       'Corners', 'Tackles.1', 'Duels', 'Man-to-man duels', 'Aerial duels',\n",
       "       'Passes', 'Short passes', 'Long passes', 'Through balls',\n",
       "       'Goals scored per attempt'],\n",
       "      dtype='object')"
      ]
     },
     "execution_count": 130,
     "metadata": {},
     "output_type": "execute_result"
    }
   ],
   "execution_count": 130
  },
  {
   "metadata": {
    "ExecuteTime": {
     "end_time": "2025-01-26T15:28:10.368184Z",
     "start_time": "2025-01-26T15:28:10.363185Z"
    }
   },
   "cell_type": "code",
   "source": "liga.groupby('Team')['Red Cards'].sum().nlargest(5)",
   "id": "f72c0ba6fc426fdd",
   "outputs": [
    {
     "data": {
      "text/plain": [
       "Team\n",
       "Rayo Vallecano    8\n",
       "Levante UD        7\n",
       "Getafe CF         6\n",
       "RC Celta          6\n",
       "Real Madrid       6\n",
       "Name: Red Cards, dtype: int64"
      ]
     },
     "execution_count": 142,
     "metadata": {},
     "output_type": "execute_result"
    }
   ],
   "execution_count": 142
  },
  {
   "metadata": {
    "ExecuteTime": {
     "end_time": "2025-01-26T15:28:12.391565Z",
     "start_time": "2025-01-26T15:28:12.386449Z"
    }
   },
   "cell_type": "code",
   "source": "liga.groupby('Position')['Long passes'].mean()",
   "id": "cedbe5537fe6591a",
   "outputs": [
    {
     "data": {
      "text/plain": [
       "Position\n",
       "Defender      102.610811\n",
       "Forward        23.787234\n",
       "Goalkeeper    242.157895\n",
       "Midfielder     60.445455\n",
       "Name: Long passes, dtype: float64"
      ]
     },
     "execution_count": 143,
     "metadata": {},
     "output_type": "execute_result"
    }
   ],
   "execution_count": 143
  },
  {
   "metadata": {
    "ExecuteTime": {
     "end_time": "2025-01-26T15:28:15.540045Z",
     "start_time": "2025-01-26T15:28:15.534537Z"
    }
   },
   "cell_type": "code",
   "source": "liga.groupby('Shirt number')['Goals scored.1'].sum().nlargest(10)",
   "id": "d531493860d587c2",
   "outputs": [
    {
     "data": {
      "text/plain": [
       "Shirt number\n",
       "9.0     157\n",
       "10.0     94\n",
       "7.0      87\n",
       "19.0     59\n",
       "11.0     50\n",
       "12.0     43\n",
       "22.0     40\n",
       "17.0     36\n",
       "4.0      21\n",
       "8.0      19\n",
       "Name: Goals scored.1, dtype: int64"
      ]
     },
     "execution_count": 144,
     "metadata": {},
     "output_type": "execute_result"
    }
   ],
   "execution_count": 144
  },
  {
   "metadata": {
    "ExecuteTime": {
     "end_time": "2025-01-26T15:29:02.621153Z",
     "start_time": "2025-01-26T15:29:02.615884Z"
    }
   },
   "cell_type": "code",
   "source": [
    "shots = liga.groupby(\"Team\").agg(\n",
    "    total=(\"Shots\", 'sum'),\n",
    "    on_target=(\"Shots on target\", 'sum')\n",
    ")\n"
   ],
   "id": "5235d07004d124c0",
   "outputs": [],
   "execution_count": 146
  },
  {
   "metadata": {
    "ExecuteTime": {
     "end_time": "2025-01-26T15:29:14.830824Z",
     "start_time": "2025-01-26T15:29:14.827250Z"
    }
   },
   "cell_type": "code",
   "source": "shots[\"accuracy\"] = shots[\"on_target\"] / shots[\"total\"]",
   "id": "35fe391fe1863360",
   "outputs": [],
   "execution_count": 147
  },
  {
   "metadata": {
    "ExecuteTime": {
     "end_time": "2025-01-26T15:29:24.882992Z",
     "start_time": "2025-01-26T15:29:24.724360Z"
    }
   },
   "cell_type": "code",
   "source": [
    "plt.style.use(\"ggplot\")\n",
    "fig, axs = plt.subplots(2,1, figsize=(5,8), sharex=True)\n",
    "shots[\"accuracy\"].nlargest().sort_values(ascending=True).plot(\n",
    "    kind=\"barh\", \n",
    "    ax=axs[0],\n",
    "    color=\"green\",\n",
    "    title=\"Most Accurate Teams\"\n",
    ")\n",
    "shots[\"accuracy\"].nsmallest().plot(\n",
    "    kind=\"barh\", \n",
    "    ax=axs[1],\n",
    "    color=\"red\",\n",
    "    title=\"Least Accurate Teams\"\n",
    ")\n",
    "plt.xlabel(\"On Target Percentage\")"
   ],
   "id": "ac56946e12e415b4",
   "outputs": [
    {
     "data": {
      "text/plain": [
       "Text(0.5, 0, 'On Target Percentage')"
      ]
     },
     "execution_count": 148,
     "metadata": {},
     "output_type": "execute_result"
    },
    {
     "data": {
      "text/plain": [
       "<Figure size 500x800 with 2 Axes>"
      ],
      "image/png": "[encoded data removed]"
     },
     "metadata": {},
     "output_type": "display_data"
    }
   ],
   "execution_count": 148
  }
 ],
 "metadata": {
  "kernelspec": {
   "display_name": "Python 3",
   "language": "python",
   "name": "python3"
  },
  "language_info": {
   "codemirror_mode": {
    "name": "ipython",
    "version": 2
   },
   "file_extension": ".py",
   "mimetype": "text/x-python",
   "name": "python",
   "nbconvert_exporter": "python",
   "pygments_lexer": "ipython2",
   "version": "2.7.6"
  }
 },
 "nbformat": 4,
 "nbformat_minor": 5
}
